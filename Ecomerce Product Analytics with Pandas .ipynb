{
 "cells": [
  {
   "cell_type": "code",
   "execution_count": 1,
   "id": "a41b61ff",
   "metadata": {},
   "outputs": [],
   "source": [
    "import pandas as pd\n",
    "import numpy as np\n",
    "import seaborn as sns\n",
    "pd.set_option('float_format', '{:.2f}'.format)"
   ]
  },
  {
   "cell_type": "code",
   "execution_count": 2,
   "id": "b17647bb",
   "metadata": {},
   "outputs": [],
   "source": [
    "df = pd.read_csv('ecom.csv', encoding = 'unicode_escape')"
   ]
  },
  {
   "cell_type": "code",
   "execution_count": 3,
   "id": "178a477c",
   "metadata": {},
   "outputs": [
    {
     "data": {
      "text/html": [
       "<div>\n",
       "<style scoped>\n",
       "    .dataframe tbody tr th:only-of-type {\n",
       "        vertical-align: middle;\n",
       "    }\n",
       "\n",
       "    .dataframe tbody tr th {\n",
       "        vertical-align: top;\n",
       "    }\n",
       "\n",
       "    .dataframe thead th {\n",
       "        text-align: right;\n",
       "    }\n",
       "</style>\n",
       "<table border=\"1\" class=\"dataframe\">\n",
       "  <thead>\n",
       "    <tr style=\"text-align: right;\">\n",
       "      <th></th>\n",
       "      <th>InvoiceNo</th>\n",
       "      <th>StockCode</th>\n",
       "      <th>Description</th>\n",
       "      <th>Quantity</th>\n",
       "      <th>InvoiceDate</th>\n",
       "      <th>UnitPrice</th>\n",
       "      <th>CustomerID</th>\n",
       "      <th>Country</th>\n",
       "    </tr>\n",
       "  </thead>\n",
       "  <tbody>\n",
       "    <tr>\n",
       "      <th>0</th>\n",
       "      <td>536365</td>\n",
       "      <td>85123A</td>\n",
       "      <td>WHITE HANGING HEART T-LIGHT HOLDER</td>\n",
       "      <td>6</td>\n",
       "      <td>12/1/2010 8:26</td>\n",
       "      <td>2.55</td>\n",
       "      <td>17850.00</td>\n",
       "      <td>United Kingdom</td>\n",
       "    </tr>\n",
       "    <tr>\n",
       "      <th>1</th>\n",
       "      <td>536365</td>\n",
       "      <td>71053</td>\n",
       "      <td>WHITE METAL LANTERN</td>\n",
       "      <td>6</td>\n",
       "      <td>12/1/2010 8:26</td>\n",
       "      <td>3.39</td>\n",
       "      <td>17850.00</td>\n",
       "      <td>United Kingdom</td>\n",
       "    </tr>\n",
       "    <tr>\n",
       "      <th>2</th>\n",
       "      <td>536365</td>\n",
       "      <td>84406B</td>\n",
       "      <td>CREAM CUPID HEARTS COAT HANGER</td>\n",
       "      <td>8</td>\n",
       "      <td>12/1/2010 8:26</td>\n",
       "      <td>2.75</td>\n",
       "      <td>17850.00</td>\n",
       "      <td>United Kingdom</td>\n",
       "    </tr>\n",
       "    <tr>\n",
       "      <th>3</th>\n",
       "      <td>536365</td>\n",
       "      <td>84029G</td>\n",
       "      <td>KNITTED UNION FLAG HOT WATER BOTTLE</td>\n",
       "      <td>6</td>\n",
       "      <td>12/1/2010 8:26</td>\n",
       "      <td>3.39</td>\n",
       "      <td>17850.00</td>\n",
       "      <td>United Kingdom</td>\n",
       "    </tr>\n",
       "    <tr>\n",
       "      <th>4</th>\n",
       "      <td>536365</td>\n",
       "      <td>84029E</td>\n",
       "      <td>RED WOOLLY HOTTIE WHITE HEART.</td>\n",
       "      <td>6</td>\n",
       "      <td>12/1/2010 8:26</td>\n",
       "      <td>3.39</td>\n",
       "      <td>17850.00</td>\n",
       "      <td>United Kingdom</td>\n",
       "    </tr>\n",
       "  </tbody>\n",
       "</table>\n",
       "</div>"
      ],
      "text/plain": [
       "  InvoiceNo StockCode                          Description  Quantity  \\\n",
       "0    536365    85123A   WHITE HANGING HEART T-LIGHT HOLDER         6   \n",
       "1    536365     71053                  WHITE METAL LANTERN         6   \n",
       "2    536365    84406B       CREAM CUPID HEARTS COAT HANGER         8   \n",
       "3    536365    84029G  KNITTED UNION FLAG HOT WATER BOTTLE         6   \n",
       "4    536365    84029E       RED WOOLLY HOTTIE WHITE HEART.         6   \n",
       "\n",
       "      InvoiceDate  UnitPrice  CustomerID         Country  \n",
       "0  12/1/2010 8:26       2.55    17850.00  United Kingdom  \n",
       "1  12/1/2010 8:26       3.39    17850.00  United Kingdom  \n",
       "2  12/1/2010 8:26       2.75    17850.00  United Kingdom  \n",
       "3  12/1/2010 8:26       3.39    17850.00  United Kingdom  \n",
       "4  12/1/2010 8:26       3.39    17850.00  United Kingdom  "
      ]
     },
     "execution_count": 3,
     "metadata": {},
     "output_type": "execute_result"
    }
   ],
   "source": [
    "df.head()"
   ]
  },
  {
   "cell_type": "code",
   "execution_count": 4,
   "id": "0b3244f2",
   "metadata": {},
   "outputs": [
    {
     "data": {
      "text/plain": [
       "(541909, 8)"
      ]
     },
     "execution_count": 4,
     "metadata": {},
     "output_type": "execute_result"
    }
   ],
   "source": [
    "df.shape"
   ]
  },
  {
   "cell_type": "code",
   "execution_count": 5,
   "id": "316a2299",
   "metadata": {},
   "outputs": [],
   "source": [
    "%matplotlib inline\n",
    "import matplotlib.pyplot as plt\n",
    "import seaborn\n",
    "seaborn.set()"
   ]
  },
  {
   "cell_type": "code",
   "execution_count": 43,
   "id": "a5196d22",
   "metadata": {},
   "outputs": [
    {
     "data": {
      "image/png": "[encoded data removed]",
      "text/plain": [
       "<Figure size 1152x504 with 1 Axes>"
      ]
     },
     "metadata": {},
     "output_type": "display_data"
    }
   ],
   "source": [
    "ax = df['Quantity'].plot.box(\n",
    "    showfliers=False,\n",
    "    grid=True,\n",
    "    figsize=(16, 7)\n",
    ")\n",
    "\n",
    "ax.set_ylabel('Order Quantity')\n",
    "ax.set_title('Quantity Distribution')\n",
    "\n",
    "plt.suptitle(\"\")\n",
    "plt.show()\n"
   ]
  },
  {
   "cell_type": "code",
   "execution_count": 7,
   "id": "ed81e9fc",
   "metadata": {},
   "outputs": [
    {
     "data": {
      "text/plain": [
       "count   541909.00\n",
       "mean         9.55\n",
       "std        218.08\n",
       "min     -80995.00\n",
       "25%          1.00\n",
       "50%          3.00\n",
       "75%         10.00\n",
       "max      80995.00\n",
       "Name: Quantity, dtype: float64"
      ]
     },
     "execution_count": 7,
     "metadata": {},
     "output_type": "execute_result"
    }
   ],
   "source": [
    "df['Quantity'].describe()"
   ]
  },
  {
   "cell_type": "code",
   "execution_count": 8,
   "id": "481e6cfc",
   "metadata": {},
   "outputs": [],
   "source": [
    "df = df.loc[df['Quantity']>0]"
   ]
  },
  {
   "cell_type": "code",
   "execution_count": 9,
   "id": "d9a016b5",
   "metadata": {},
   "outputs": [
    {
     "data": {
      "text/plain": [
       "(531285, 8)"
      ]
     },
     "execution_count": 9,
     "metadata": {},
     "output_type": "execute_result"
    }
   ],
   "source": [
    "df.shape"
   ]
  },
  {
   "cell_type": "code",
   "execution_count": 10,
   "id": "8ca6c914",
   "metadata": {},
   "outputs": [],
   "source": [
    "df['Sales'] = df['Quantity'] * df['UnitPrice']"
   ]
  },
  {
   "cell_type": "code",
   "execution_count": 11,
   "id": "35e8b587",
   "metadata": {},
   "outputs": [
    {
     "data": {
      "text/html": [
       "<div>\n",
       "<style scoped>\n",
       "    .dataframe tbody tr th:only-of-type {\n",
       "        vertical-align: middle;\n",
       "    }\n",
       "\n",
       "    .dataframe tbody tr th {\n",
       "        vertical-align: top;\n",
       "    }\n",
       "\n",
       "    .dataframe thead th {\n",
       "        text-align: right;\n",
       "    }\n",
       "</style>\n",
       "<table border=\"1\" class=\"dataframe\">\n",
       "  <thead>\n",
       "    <tr style=\"text-align: right;\">\n",
       "      <th></th>\n",
       "      <th>InvoiceNo</th>\n",
       "      <th>StockCode</th>\n",
       "      <th>Description</th>\n",
       "      <th>Quantity</th>\n",
       "      <th>InvoiceDate</th>\n",
       "      <th>UnitPrice</th>\n",
       "      <th>CustomerID</th>\n",
       "      <th>Country</th>\n",
       "      <th>Sales</th>\n",
       "    </tr>\n",
       "  </thead>\n",
       "  <tbody>\n",
       "    <tr>\n",
       "      <th>0</th>\n",
       "      <td>536365</td>\n",
       "      <td>85123A</td>\n",
       "      <td>WHITE HANGING HEART T-LIGHT HOLDER</td>\n",
       "      <td>6</td>\n",
       "      <td>12/1/2010 8:26</td>\n",
       "      <td>2.55</td>\n",
       "      <td>17850.00</td>\n",
       "      <td>United Kingdom</td>\n",
       "      <td>15.30</td>\n",
       "    </tr>\n",
       "    <tr>\n",
       "      <th>1</th>\n",
       "      <td>536365</td>\n",
       "      <td>71053</td>\n",
       "      <td>WHITE METAL LANTERN</td>\n",
       "      <td>6</td>\n",
       "      <td>12/1/2010 8:26</td>\n",
       "      <td>3.39</td>\n",
       "      <td>17850.00</td>\n",
       "      <td>United Kingdom</td>\n",
       "      <td>20.34</td>\n",
       "    </tr>\n",
       "    <tr>\n",
       "      <th>2</th>\n",
       "      <td>536365</td>\n",
       "      <td>84406B</td>\n",
       "      <td>CREAM CUPID HEARTS COAT HANGER</td>\n",
       "      <td>8</td>\n",
       "      <td>12/1/2010 8:26</td>\n",
       "      <td>2.75</td>\n",
       "      <td>17850.00</td>\n",
       "      <td>United Kingdom</td>\n",
       "      <td>22.00</td>\n",
       "    </tr>\n",
       "    <tr>\n",
       "      <th>3</th>\n",
       "      <td>536365</td>\n",
       "      <td>84029G</td>\n",
       "      <td>KNITTED UNION FLAG HOT WATER BOTTLE</td>\n",
       "      <td>6</td>\n",
       "      <td>12/1/2010 8:26</td>\n",
       "      <td>3.39</td>\n",
       "      <td>17850.00</td>\n",
       "      <td>United Kingdom</td>\n",
       "      <td>20.34</td>\n",
       "    </tr>\n",
       "    <tr>\n",
       "      <th>4</th>\n",
       "      <td>536365</td>\n",
       "      <td>84029E</td>\n",
       "      <td>RED WOOLLY HOTTIE WHITE HEART.</td>\n",
       "      <td>6</td>\n",
       "      <td>12/1/2010 8:26</td>\n",
       "      <td>3.39</td>\n",
       "      <td>17850.00</td>\n",
       "      <td>United Kingdom</td>\n",
       "      <td>20.34</td>\n",
       "    </tr>\n",
       "  </tbody>\n",
       "</table>\n",
       "</div>"
      ],
      "text/plain": [
       "  InvoiceNo StockCode                          Description  Quantity  \\\n",
       "0    536365    85123A   WHITE HANGING HEART T-LIGHT HOLDER         6   \n",
       "1    536365     71053                  WHITE METAL LANTERN         6   \n",
       "2    536365    84406B       CREAM CUPID HEARTS COAT HANGER         8   \n",
       "3    536365    84029G  KNITTED UNION FLAG HOT WATER BOTTLE         6   \n",
       "4    536365    84029E       RED WOOLLY HOTTIE WHITE HEART.         6   \n",
       "\n",
       "      InvoiceDate  UnitPrice  CustomerID         Country  Sales  \n",
       "0  12/1/2010 8:26       2.55    17850.00  United Kingdom  15.30  \n",
       "1  12/1/2010 8:26       3.39    17850.00  United Kingdom  20.34  \n",
       "2  12/1/2010 8:26       2.75    17850.00  United Kingdom  22.00  \n",
       "3  12/1/2010 8:26       3.39    17850.00  United Kingdom  20.34  \n",
       "4  12/1/2010 8:26       3.39    17850.00  United Kingdom  20.34  "
      ]
     },
     "execution_count": 11,
     "metadata": {},
     "output_type": "execute_result"
    }
   ],
   "source": [
    "df.head()"
   ]
  },
  {
   "cell_type": "code",
   "execution_count": 12,
   "id": "deb3e5af",
   "metadata": {},
   "outputs": [
    {
     "data": {
      "text/plain": [
       "count   531285.00\n",
       "mean        20.04\n",
       "std        270.91\n",
       "min     -11062.06\n",
       "25%          3.75\n",
       "50%          9.90\n",
       "75%         17.70\n",
       "max     168469.60\n",
       "Name: Sales, dtype: float64"
      ]
     },
     "execution_count": 12,
     "metadata": {},
     "output_type": "execute_result"
    }
   ],
   "source": [
    "df['Sales'].describe()"
   ]
  },
  {
   "cell_type": "code",
   "execution_count": 42,
   "id": "cdfadda3",
   "metadata": {},
   "outputs": [
    {
     "data": {
      "image/png": "[encoded data removed]",
      "text/plain": [
       "<Figure size 1152x504 with 1 Axes>"
      ]
     },
     "metadata": {},
     "output_type": "display_data"
    }
   ],
   "source": [
    "ax = df['Sales'].plot.box(\n",
    "    showfliers=False,\n",
    "    grid=True,\n",
    "    figsize=(16, 7)\n",
    ")\n",
    "\n",
    "ax.set_ylabel('Order Quantity')\n",
    "ax.set_title('Quantity Distribution')\n",
    "\n",
    "plt.suptitle(\"\")\n",
    "plt.show()\n"
   ]
  },
  {
   "cell_type": "code",
   "execution_count": 51,
   "id": "605348d2",
   "metadata": {},
   "outputs": [],
   "source": [
    "monthly_revenue_df = df.set_index('InvoiceDate')['Sales'].resample('M').sum()"
   ]
  },
  {
   "cell_type": "code",
   "execution_count": 52,
   "id": "a4972aca",
   "metadata": {},
   "outputs": [
    {
     "data": {
      "text/plain": [
       "InvoiceDate\n",
       "2010-12-31    823746.14\n",
       "2011-01-31    691364.56\n",
       "2011-02-28    523631.89\n",
       "2011-03-31    717639.36\n",
       "2011-04-30    537808.62\n",
       "2011-05-31    770536.02\n",
       "2011-06-30    761739.90\n",
       "2011-07-31    719221.19\n",
       "2011-08-31    737014.26\n",
       "2011-09-30   1058590.17\n",
       "2011-10-31   1154979.30\n",
       "2011-11-30   1509496.33\n",
       "2011-12-31    638792.68\n",
       "Freq: M, Name: Sales, dtype: float64"
      ]
     },
     "execution_count": 52,
     "metadata": {},
     "output_type": "execute_result"
    }
   ],
   "source": [
    "monthly_revenue_df"
   ]
  },
  {
   "cell_type": "code",
   "execution_count": 54,
   "id": "90eee710",
   "metadata": {},
   "outputs": [
    {
     "data": {
      "image/png": "[encoded data removed]",
      "text/plain": [
       "<Figure size 1152x504 with 1 Axes>"
      ]
     },
     "metadata": {},
     "output_type": "display_data"
    }
   ],
   "source": [
    "ax = pd.DataFrame(monthly_revenue_df.values).plot(\n",
    "    grid=True,\n",
    "    figsize=(16,7),\n",
    "    legend=False\n",
    ")\n",
    "\n",
    "ax.set_xlabel('Date')\n",
    "ax.set_ylabel('Sales')\n",
    "ax.set_title('Total Revenue Over Time')\n",
    "\n",
    "ax.set_ylim([0, max(monthly_revenue_df.values)+100000])\n",
    "\n",
    "plt.xticks(\n",
    "    range(len(monthly_revenue_df.index)), \n",
    "    [x.strftime('%m.%Y') for x in monthly_revenue_df.index], \n",
    "    \n",
    ")\n",
    "\n",
    "plt.show()\n",
    "\n"
   ]
  },
  {
   "cell_type": "markdown",
   "id": "19cdcd15",
   "metadata": {},
   "source": [
    "### Monthly Orders "
   ]
  },
  {
   "cell_type": "code",
   "execution_count": 14,
   "id": "3299ccfe",
   "metadata": {},
   "outputs": [
    {
     "data": {
      "text/plain": [
       "InvoiceNo       object\n",
       "StockCode       object\n",
       "Description     object\n",
       "Quantity         int64\n",
       "InvoiceDate     object\n",
       "UnitPrice      float64\n",
       "CustomerID     float64\n",
       "Country         object\n",
       "Sales          float64\n",
       "dtype: object"
      ]
     },
     "execution_count": 14,
     "metadata": {},
     "output_type": "execute_result"
    }
   ],
   "source": [
    "df.dtypes"
   ]
  },
  {
   "cell_type": "code",
   "execution_count": 15,
   "id": "bfcc199e",
   "metadata": {},
   "outputs": [],
   "source": [
    "df['InvoiceDate'] = pd.to_datetime(df['InvoiceDate'])"
   ]
  },
  {
   "cell_type": "code",
   "execution_count": 16,
   "id": "bb9b0bbe",
   "metadata": {},
   "outputs": [
    {
     "data": {
      "text/plain": [
       "InvoiceNo              object\n",
       "StockCode              object\n",
       "Description            object\n",
       "Quantity                int64\n",
       "InvoiceDate    datetime64[ns]\n",
       "UnitPrice             float64\n",
       "CustomerID            float64\n",
       "Country                object\n",
       "Sales                 float64\n",
       "dtype: object"
      ]
     },
     "execution_count": 16,
     "metadata": {},
     "output_type": "execute_result"
    }
   ],
   "source": [
    "df.dtypes"
   ]
  },
  {
   "cell_type": "code",
   "execution_count": 17,
   "id": "a649ea23",
   "metadata": {},
   "outputs": [],
   "source": [
    "monthly_orders_df = df.set_index('InvoiceDate')['InvoiceNo'].resample('M').nunique()"
   ]
  },
  {
   "cell_type": "code",
   "execution_count": 18,
   "id": "ef23128b",
   "metadata": {},
   "outputs": [],
   "source": [
    "customer_df = df.set_index('InvoiceDate')['CustomerID'].resample('M').nunique()"
   ]
  },
  {
   "cell_type": "code",
   "execution_count": 41,
   "id": "79038446",
   "metadata": {},
   "outputs": [
    {
     "data": {
      "image/png": "[encoded data removed]",
      "text/plain": [
       "<Figure size 1152x504 with 1 Axes>"
      ]
     },
     "metadata": {},
     "output_type": "display_data"
    }
   ],
   "source": [
    "ax = pd.DataFrame(monthly_orders_df.values).plot(\n",
    "    grid=True,\n",
    "    figsize=(16,7),\n",
    "    legend=False\n",
    ")\n",
    "\n",
    "pd.DataFrame(customer_df.values).plot(\n",
    "    ax=ax,\n",
    "    grid=True\n",
    ")\n",
    "\n",
    "\n",
    "ax.set_xlabel('Date')\n",
    "ax.set_ylabel('Number of Orders & Customers')\n",
    "ax.set_title('Total Number of Orders Over Time')\n",
    "\n",
    "ax.legend(['Orders over time', 'All Customers'])\n",
    "\n",
    "\n",
    "plt.xticks(\n",
    "    range(len(monthly_orders_df.index)), \n",
    "    [x.strftime('%m.%Y') for x in monthly_orders_df.index], \n",
    "    rotation=45\n",
    ")\n",
    "\n",
    "plt.show()\n",
    "\n",
    "\n"
   ]
  },
  {
   "cell_type": "markdown",
   "id": "0010a38c",
   "metadata": {},
   "source": [
    "### No. of Orders by Hour"
   ]
  },
  {
   "cell_type": "code",
   "execution_count": 20,
   "id": "aa687f61",
   "metadata": {},
   "outputs": [],
   "source": [
    "df['Hour']=df.set_index('InvoiceDate').index.hour"
   ]
  },
  {
   "cell_type": "code",
   "execution_count": 21,
   "id": "687d5fdb",
   "metadata": {},
   "outputs": [
    {
     "data": {
      "text/html": [
       "<div>\n",
       "<style scoped>\n",
       "    .dataframe tbody tr th:only-of-type {\n",
       "        vertical-align: middle;\n",
       "    }\n",
       "\n",
       "    .dataframe tbody tr th {\n",
       "        vertical-align: top;\n",
       "    }\n",
       "\n",
       "    .dataframe thead th {\n",
       "        text-align: right;\n",
       "    }\n",
       "</style>\n",
       "<table border=\"1\" class=\"dataframe\">\n",
       "  <thead>\n",
       "    <tr style=\"text-align: right;\">\n",
       "      <th></th>\n",
       "      <th>InvoiceNo</th>\n",
       "      <th>StockCode</th>\n",
       "      <th>Description</th>\n",
       "      <th>Quantity</th>\n",
       "      <th>InvoiceDate</th>\n",
       "      <th>UnitPrice</th>\n",
       "      <th>CustomerID</th>\n",
       "      <th>Country</th>\n",
       "      <th>Sales</th>\n",
       "      <th>Hour</th>\n",
       "    </tr>\n",
       "  </thead>\n",
       "  <tbody>\n",
       "    <tr>\n",
       "      <th>0</th>\n",
       "      <td>536365</td>\n",
       "      <td>85123A</td>\n",
       "      <td>WHITE HANGING HEART T-LIGHT HOLDER</td>\n",
       "      <td>6</td>\n",
       "      <td>2010-12-01 08:26:00</td>\n",
       "      <td>2.55</td>\n",
       "      <td>17850.00</td>\n",
       "      <td>United Kingdom</td>\n",
       "      <td>15.30</td>\n",
       "      <td>8</td>\n",
       "    </tr>\n",
       "    <tr>\n",
       "      <th>1</th>\n",
       "      <td>536365</td>\n",
       "      <td>71053</td>\n",
       "      <td>WHITE METAL LANTERN</td>\n",
       "      <td>6</td>\n",
       "      <td>2010-12-01 08:26:00</td>\n",
       "      <td>3.39</td>\n",
       "      <td>17850.00</td>\n",
       "      <td>United Kingdom</td>\n",
       "      <td>20.34</td>\n",
       "      <td>8</td>\n",
       "    </tr>\n",
       "    <tr>\n",
       "      <th>2</th>\n",
       "      <td>536365</td>\n",
       "      <td>84406B</td>\n",
       "      <td>CREAM CUPID HEARTS COAT HANGER</td>\n",
       "      <td>8</td>\n",
       "      <td>2010-12-01 08:26:00</td>\n",
       "      <td>2.75</td>\n",
       "      <td>17850.00</td>\n",
       "      <td>United Kingdom</td>\n",
       "      <td>22.00</td>\n",
       "      <td>8</td>\n",
       "    </tr>\n",
       "    <tr>\n",
       "      <th>3</th>\n",
       "      <td>536365</td>\n",
       "      <td>84029G</td>\n",
       "      <td>KNITTED UNION FLAG HOT WATER BOTTLE</td>\n",
       "      <td>6</td>\n",
       "      <td>2010-12-01 08:26:00</td>\n",
       "      <td>3.39</td>\n",
       "      <td>17850.00</td>\n",
       "      <td>United Kingdom</td>\n",
       "      <td>20.34</td>\n",
       "      <td>8</td>\n",
       "    </tr>\n",
       "    <tr>\n",
       "      <th>4</th>\n",
       "      <td>536365</td>\n",
       "      <td>84029E</td>\n",
       "      <td>RED WOOLLY HOTTIE WHITE HEART.</td>\n",
       "      <td>6</td>\n",
       "      <td>2010-12-01 08:26:00</td>\n",
       "      <td>3.39</td>\n",
       "      <td>17850.00</td>\n",
       "      <td>United Kingdom</td>\n",
       "      <td>20.34</td>\n",
       "      <td>8</td>\n",
       "    </tr>\n",
       "  </tbody>\n",
       "</table>\n",
       "</div>"
      ],
      "text/plain": [
       "  InvoiceNo StockCode                          Description  Quantity  \\\n",
       "0    536365    85123A   WHITE HANGING HEART T-LIGHT HOLDER         6   \n",
       "1    536365     71053                  WHITE METAL LANTERN         6   \n",
       "2    536365    84406B       CREAM CUPID HEARTS COAT HANGER         8   \n",
       "3    536365    84029G  KNITTED UNION FLAG HOT WATER BOTTLE         6   \n",
       "4    536365    84029E       RED WOOLLY HOTTIE WHITE HEART.         6   \n",
       "\n",
       "          InvoiceDate  UnitPrice  CustomerID         Country  Sales  Hour  \n",
       "0 2010-12-01 08:26:00       2.55    17850.00  United Kingdom  15.30     8  \n",
       "1 2010-12-01 08:26:00       3.39    17850.00  United Kingdom  20.34     8  \n",
       "2 2010-12-01 08:26:00       2.75    17850.00  United Kingdom  22.00     8  \n",
       "3 2010-12-01 08:26:00       3.39    17850.00  United Kingdom  20.34     8  \n",
       "4 2010-12-01 08:26:00       3.39    17850.00  United Kingdom  20.34     8  "
      ]
     },
     "execution_count": 21,
     "metadata": {},
     "output_type": "execute_result"
    }
   ],
   "source": [
    "df.head()"
   ]
  },
  {
   "cell_type": "code",
   "execution_count": 37,
   "id": "5dfbb484",
   "metadata": {},
   "outputs": [],
   "source": [
    "df_hour = pd.DataFrame(df.groupby(['Hour'])['Quantity'].count())"
   ]
  },
  {
   "cell_type": "code",
   "execution_count": 44,
   "id": "2b212e94",
   "metadata": {},
   "outputs": [
    {
     "data": {
      "image/png": "[encoded data removed]",
      "text/plain": [
       "<Figure size 1152x504 with 1 Axes>"
      ]
     },
     "metadata": {},
     "output_type": "display_data"
    }
   ],
   "source": [
    "ax = df_hour.plot(\n",
    "    kind='bar', \n",
    "    grid=True,\n",
    "    figsize=(16,7))\n",
    "\n",
    "ax.set_title('Quantity Sold By Hour')\n",
    "ax.set_xlabel('Hours')\n",
    "ax.set_ylabel('Quantity Sold')\n",
    "ax.set_ylim([0, max(df_hour.values)+10000])\n",
    "plt.show()"
   ]
  },
  {
   "cell_type": "markdown",
   "id": "4527d0db",
   "metadata": {},
   "source": [
    "### Orders from Repeat Customers"
   ]
  },
  {
   "cell_type": "code",
   "execution_count": 22,
   "id": "72b88091",
   "metadata": {},
   "outputs": [],
   "source": [
    "monthly_repeat_customers_df = df.set_index('InvoiceDate').groupby([\n",
    "    pd.Grouper(freq='M'), 'CustomerID'\n",
    "]).filter(lambda x: len(x) > 1).resample('M').nunique()['CustomerID']\n"
   ]
  },
  {
   "cell_type": "code",
   "execution_count": 23,
   "id": "81e98b1c",
   "metadata": {},
   "outputs": [
    {
     "data": {
      "text/plain": [
       "InvoiceDate\n",
       "2010-12-31    855\n",
       "2011-01-31    717\n",
       "2011-02-28    726\n",
       "2011-03-31    946\n",
       "2011-04-30    831\n",
       "Freq: M, Name: CustomerID, dtype: int64"
      ]
     },
     "execution_count": 23,
     "metadata": {},
     "output_type": "execute_result"
    }
   ],
   "source": [
    "monthly_repeat_customers_df.head()"
   ]
  },
  {
   "cell_type": "code",
   "execution_count": 24,
   "id": "26af1231",
   "metadata": {},
   "outputs": [],
   "source": [
    "invoice_customer_df = df.groupby(\n",
    "    by=['InvoiceNo', 'InvoiceDate']\n",
    ").agg({\n",
    "    'Sales': sum,\n",
    "    'CustomerID': max,\n",
    "    'Country': max,\n",
    "}).reset_index()"
   ]
  },
  {
   "cell_type": "code",
   "execution_count": 25,
   "id": "3848109e",
   "metadata": {},
   "outputs": [
    {
     "data": {
      "text/html": [
       "<div>\n",
       "<style scoped>\n",
       "    .dataframe tbody tr th:only-of-type {\n",
       "        vertical-align: middle;\n",
       "    }\n",
       "\n",
       "    .dataframe tbody tr th {\n",
       "        vertical-align: top;\n",
       "    }\n",
       "\n",
       "    .dataframe thead th {\n",
       "        text-align: right;\n",
       "    }\n",
       "</style>\n",
       "<table border=\"1\" class=\"dataframe\">\n",
       "  <thead>\n",
       "    <tr style=\"text-align: right;\">\n",
       "      <th></th>\n",
       "      <th>InvoiceNo</th>\n",
       "      <th>InvoiceDate</th>\n",
       "      <th>Sales</th>\n",
       "      <th>CustomerID</th>\n",
       "      <th>Country</th>\n",
       "    </tr>\n",
       "  </thead>\n",
       "  <tbody>\n",
       "    <tr>\n",
       "      <th>0</th>\n",
       "      <td>536365</td>\n",
       "      <td>2010-12-01 08:26:00</td>\n",
       "      <td>139.12</td>\n",
       "      <td>17850.00</td>\n",
       "      <td>United Kingdom</td>\n",
       "    </tr>\n",
       "    <tr>\n",
       "      <th>1</th>\n",
       "      <td>536366</td>\n",
       "      <td>2010-12-01 08:28:00</td>\n",
       "      <td>22.20</td>\n",
       "      <td>17850.00</td>\n",
       "      <td>United Kingdom</td>\n",
       "    </tr>\n",
       "    <tr>\n",
       "      <th>2</th>\n",
       "      <td>536367</td>\n",
       "      <td>2010-12-01 08:34:00</td>\n",
       "      <td>278.73</td>\n",
       "      <td>13047.00</td>\n",
       "      <td>United Kingdom</td>\n",
       "    </tr>\n",
       "    <tr>\n",
       "      <th>3</th>\n",
       "      <td>536368</td>\n",
       "      <td>2010-12-01 08:34:00</td>\n",
       "      <td>70.05</td>\n",
       "      <td>13047.00</td>\n",
       "      <td>United Kingdom</td>\n",
       "    </tr>\n",
       "    <tr>\n",
       "      <th>4</th>\n",
       "      <td>536369</td>\n",
       "      <td>2010-12-01 08:35:00</td>\n",
       "      <td>17.85</td>\n",
       "      <td>13047.00</td>\n",
       "      <td>United Kingdom</td>\n",
       "    </tr>\n",
       "  </tbody>\n",
       "</table>\n",
       "</div>"
      ],
      "text/plain": [
       "  InvoiceNo         InvoiceDate  Sales  CustomerID         Country\n",
       "0    536365 2010-12-01 08:26:00 139.12    17850.00  United Kingdom\n",
       "1    536366 2010-12-01 08:28:00  22.20    17850.00  United Kingdom\n",
       "2    536367 2010-12-01 08:34:00 278.73    13047.00  United Kingdom\n",
       "3    536368 2010-12-01 08:34:00  70.05    13047.00  United Kingdom\n",
       "4    536369 2010-12-01 08:35:00  17.85    13047.00  United Kingdom"
      ]
     },
     "execution_count": 25,
     "metadata": {},
     "output_type": "execute_result"
    }
   ],
   "source": [
    "invoice_customer_df.head()"
   ]
  },
  {
   "cell_type": "code",
   "execution_count": 26,
   "id": "4ed5b53b",
   "metadata": {},
   "outputs": [],
   "source": [
    "monthly_repeat_customers_df = invoice_customer_df.set_index('InvoiceDate').groupby([\n",
    "    pd.Grouper(freq='M'), 'CustomerID'\n",
    "]).filter(lambda x: len(x) > 1).resample('M').nunique()['CustomerID']"
   ]
  },
  {
   "cell_type": "code",
   "execution_count": 27,
   "id": "cba6e362",
   "metadata": {},
   "outputs": [
    {
     "data": {
      "text/plain": [
       "InvoiceDate\n",
       "2010-12-31    263\n",
       "2011-01-31    153\n",
       "2011-02-28    153\n",
       "2011-03-31    203\n",
       "2011-04-30    170\n",
       "Freq: M, Name: CustomerID, dtype: int64"
      ]
     },
     "execution_count": 27,
     "metadata": {},
     "output_type": "execute_result"
    }
   ],
   "source": [
    "monthly_repeat_customers_df.head()"
   ]
  },
  {
   "cell_type": "code",
   "execution_count": 28,
   "id": "d83c2f3d",
   "metadata": {},
   "outputs": [],
   "source": [
    "monthly_unique_customer = df.set_index('InvoiceDate')['CustomerID'].resample('M').nunique()"
   ]
  },
  {
   "cell_type": "code",
   "execution_count": 29,
   "id": "129e96e4",
   "metadata": {},
   "outputs": [
    {
     "data": {
      "text/plain": [
       "InvoiceDate\n",
       "2010-12-31    885\n",
       "2011-01-31    741\n",
       "2011-02-28    758\n",
       "2011-03-31    974\n",
       "2011-04-30    856\n",
       "Freq: M, Name: CustomerID, dtype: int64"
      ]
     },
     "execution_count": 29,
     "metadata": {},
     "output_type": "execute_result"
    }
   ],
   "source": [
    "monthly_unique_customer.head()"
   ]
  },
  {
   "cell_type": "code",
   "execution_count": 30,
   "id": "30bc9c97",
   "metadata": {},
   "outputs": [],
   "source": [
    "Repeat_customer_percentage = monthly_repeat_customers_df/monthly_unique_customer *100"
   ]
  },
  {
   "cell_type": "code",
   "execution_count": 31,
   "id": "75f4b68e",
   "metadata": {},
   "outputs": [
    {
     "data": {
      "text/plain": [
       "InvoiceDate\n",
       "2010-12-31   29.72\n",
       "2011-01-31   20.65\n",
       "2011-02-28   20.18\n",
       "2011-03-31   20.84\n",
       "2011-04-30   19.86\n",
       "2011-05-31   26.61\n",
       "2011-06-30   22.20\n",
       "2011-07-31   23.92\n",
       "2011-08-31   21.18\n",
       "2011-09-30   21.48\n",
       "2011-10-31   23.75\n",
       "2011-11-30   32.49\n",
       "2011-12-31   17.24\n",
       "Freq: M, Name: CustomerID, dtype: float64"
      ]
     },
     "execution_count": 31,
     "metadata": {},
     "output_type": "execute_result"
    }
   ],
   "source": [
    "Repeat_customer_percentage"
   ]
  },
  {
   "cell_type": "markdown",
   "id": "39ef5fd1",
   "metadata": {},
   "source": [
    "### Popular Items"
   ]
  },
  {
   "cell_type": "markdown",
   "id": "87e9c5ff",
   "metadata": {},
   "source": [
    "#### Popular Items By Country"
   ]
  },
  {
   "cell_type": "code",
   "execution_count": 32,
   "id": "53f2dddd",
   "metadata": {},
   "outputs": [],
   "source": [
    "from scipy.stats import skew, mode"
   ]
  },
  {
   "cell_type": "code",
   "execution_count": 33,
   "id": "29de0c4b",
   "metadata": {},
   "outputs": [],
   "source": [
    "agg_func_text = {'Description':['nunique',mode]}\n",
    "popular_item_by_country = df.groupby(['Country']).agg(agg_func_text)"
   ]
  },
  {
   "cell_type": "code",
   "execution_count": 34,
   "id": "1c09a8cf",
   "metadata": {},
   "outputs": [
    {
     "data": {
      "text/html": [
       "<div>\n",
       "<style scoped>\n",
       "    .dataframe tbody tr th:only-of-type {\n",
       "        vertical-align: middle;\n",
       "    }\n",
       "\n",
       "    .dataframe tbody tr th {\n",
       "        vertical-align: top;\n",
       "    }\n",
       "\n",
       "    .dataframe thead tr th {\n",
       "        text-align: left;\n",
       "    }\n",
       "\n",
       "    .dataframe thead tr:last-of-type th {\n",
       "        text-align: right;\n",
       "    }\n",
       "</style>\n",
       "<table border=\"1\" class=\"dataframe\">\n",
       "  <thead>\n",
       "    <tr>\n",
       "      <th></th>\n",
       "      <th colspan=\"2\" halign=\"left\">Description</th>\n",
       "    </tr>\n",
       "    <tr>\n",
       "      <th></th>\n",
       "      <th>nunique</th>\n",
       "      <th>mode</th>\n",
       "    </tr>\n",
       "    <tr>\n",
       "      <th>Country</th>\n",
       "      <th></th>\n",
       "      <th></th>\n",
       "    </tr>\n",
       "  </thead>\n",
       "  <tbody>\n",
       "    <tr>\n",
       "      <th>Australia</th>\n",
       "      <td>608</td>\n",
       "      <td>([RED TOADSTOOL LED NIGHT LIGHT], [9])</td>\n",
       "    </tr>\n",
       "    <tr>\n",
       "      <th>Austria</th>\n",
       "      <td>306</td>\n",
       "      <td>([POSTAGE], [14])</td>\n",
       "    </tr>\n",
       "    <tr>\n",
       "      <th>Bahrain</th>\n",
       "      <td>16</td>\n",
       "      <td>([NOVELTY BISCUITS CAKE STAND 3 TIER], [2])</td>\n",
       "    </tr>\n",
       "    <tr>\n",
       "      <th>Belgium</th>\n",
       "      <td>784</td>\n",
       "      <td>([POSTAGE], [96])</td>\n",
       "    </tr>\n",
       "    <tr>\n",
       "      <th>Brazil</th>\n",
       "      <td>32</td>\n",
       "      <td>([CLOCK MAGNET MUM'S KITCHEN], [1])</td>\n",
       "    </tr>\n",
       "    <tr>\n",
       "      <th>Canada</th>\n",
       "      <td>147</td>\n",
       "      <td>([COLOURING PENCILS BROWN TUBE], [3])</td>\n",
       "    </tr>\n",
       "    <tr>\n",
       "      <th>Channel Islands</th>\n",
       "      <td>436</td>\n",
       "      <td>([DOORMAT HOME SWEET HOME BLUE ], [7])</td>\n",
       "    </tr>\n",
       "    <tr>\n",
       "      <th>Cyprus</th>\n",
       "      <td>498</td>\n",
       "      <td>([REGENCY CAKESTAND 3 TIER], [8])</td>\n",
       "    </tr>\n",
       "    <tr>\n",
       "      <th>Czech Republic</th>\n",
       "      <td>25</td>\n",
       "      <td>([12 PENCILS SMALL TUBE RED RETROSPOT], [1])</td>\n",
       "    </tr>\n",
       "    <tr>\n",
       "      <th>Denmark</th>\n",
       "      <td>252</td>\n",
       "      <td>([POSTAGE], [13])</td>\n",
       "    </tr>\n",
       "    <tr>\n",
       "      <th>EIRE</th>\n",
       "      <td>2017</td>\n",
       "      <td>([CARRIAGE], [106])</td>\n",
       "    </tr>\n",
       "    <tr>\n",
       "      <th>European Community</th>\n",
       "      <td>50</td>\n",
       "      <td>([POSTAGE], [3])</td>\n",
       "    </tr>\n",
       "    <tr>\n",
       "      <th>Finland</th>\n",
       "      <td>465</td>\n",
       "      <td>([POSTAGE], [37])</td>\n",
       "    </tr>\n",
       "    <tr>\n",
       "      <th>France</th>\n",
       "      <td>1564</td>\n",
       "      <td>([POSTAGE], [300])</td>\n",
       "    </tr>\n",
       "    <tr>\n",
       "      <th>Germany</th>\n",
       "      <td>1697</td>\n",
       "      <td>([POSTAGE], [374])</td>\n",
       "    </tr>\n",
       "    <tr>\n",
       "      <th>Greece</th>\n",
       "      <td>138</td>\n",
       "      <td>([POSTAGE], [3])</td>\n",
       "    </tr>\n",
       "    <tr>\n",
       "      <th>Hong Kong</th>\n",
       "      <td>194</td>\n",
       "      <td>([MEASURING TAPE BABUSHKA PINK], [6])</td>\n",
       "    </tr>\n",
       "    <tr>\n",
       "      <th>Iceland</th>\n",
       "      <td>103</td>\n",
       "      <td>([AIRLINE BAG VINTAGE JET SET BROWN], [6])</td>\n",
       "    </tr>\n",
       "    <tr>\n",
       "      <th>Israel</th>\n",
       "      <td>255</td>\n",
       "      <td>([WOODLAND CHARLOTTE BAG], [4])</td>\n",
       "    </tr>\n",
       "    <tr>\n",
       "      <th>Italy</th>\n",
       "      <td>476</td>\n",
       "      <td>([POSTAGE], [17])</td>\n",
       "    </tr>\n",
       "    <tr>\n",
       "      <th>Japan</th>\n",
       "      <td>216</td>\n",
       "      <td>([PACK OF 12 TRADITIONAL CRAYONS], [5])</td>\n",
       "    </tr>\n",
       "    <tr>\n",
       "      <th>Lebanon</th>\n",
       "      <td>45</td>\n",
       "      <td>([12 EGG HOUSE PAINTED WOOD], [1])</td>\n",
       "    </tr>\n",
       "    <tr>\n",
       "      <th>Lithuania</th>\n",
       "      <td>29</td>\n",
       "      <td>([FELTCRAFT CUSHION BUTTERFLY], [2])</td>\n",
       "    </tr>\n",
       "    <tr>\n",
       "      <th>Malta</th>\n",
       "      <td>99</td>\n",
       "      <td>([GRAND CHOCOLATECANDLE], [3])</td>\n",
       "    </tr>\n",
       "    <tr>\n",
       "      <th>Netherlands</th>\n",
       "      <td>803</td>\n",
       "      <td>([POSTAGE], [37])</td>\n",
       "    </tr>\n",
       "    <tr>\n",
       "      <th>Norway</th>\n",
       "      <td>595</td>\n",
       "      <td>([POSTAGE], [20])</td>\n",
       "    </tr>\n",
       "    <tr>\n",
       "      <th>Poland</th>\n",
       "      <td>205</td>\n",
       "      <td>([LARGE CHINESE STYLE SCISSOR], [7])</td>\n",
       "    </tr>\n",
       "    <tr>\n",
       "      <th>Portugal</th>\n",
       "      <td>714</td>\n",
       "      <td>([POSTAGE], [30])</td>\n",
       "    </tr>\n",
       "    <tr>\n",
       "      <th>RSA</th>\n",
       "      <td>58</td>\n",
       "      <td>([4 TRADITIONAL SPINNING TOPS], [1])</td>\n",
       "    </tr>\n",
       "    <tr>\n",
       "      <th>Saudi Arabia</th>\n",
       "      <td>9</td>\n",
       "      <td>([ASSORTED BOTTLE TOP  MAGNETS ], [1])</td>\n",
       "    </tr>\n",
       "    <tr>\n",
       "      <th>Singapore</th>\n",
       "      <td>179</td>\n",
       "      <td>([Manual], [7])</td>\n",
       "    </tr>\n",
       "    <tr>\n",
       "      <th>Spain</th>\n",
       "      <td>1105</td>\n",
       "      <td>([POSTAGE], [62])</td>\n",
       "    </tr>\n",
       "    <tr>\n",
       "      <th>Sweden</th>\n",
       "      <td>261</td>\n",
       "      <td>([POSTAGE], [22])</td>\n",
       "    </tr>\n",
       "    <tr>\n",
       "      <th>Switzerland</th>\n",
       "      <td>987</td>\n",
       "      <td>([POSTAGE], [31])</td>\n",
       "    </tr>\n",
       "    <tr>\n",
       "      <th>USA</th>\n",
       "      <td>163</td>\n",
       "      <td>([CARD DOLLY GIRL ], [2])</td>\n",
       "    </tr>\n",
       "    <tr>\n",
       "      <th>United Arab Emirates</th>\n",
       "      <td>68</td>\n",
       "      <td>([ SPACEBOY BABY GIFT SET], [1])</td>\n",
       "    </tr>\n",
       "    <tr>\n",
       "      <th>United Kingdom</th>\n",
       "      <td>4058</td>\n",
       "      <td>([WHITE HANGING HEART T-LIGHT HOLDER], [2231])</td>\n",
       "    </tr>\n",
       "    <tr>\n",
       "      <th>Unspecified</th>\n",
       "      <td>344</td>\n",
       "      <td>([3 STRIPEY MICE FELTCRAFT], [4])</td>\n",
       "    </tr>\n",
       "  </tbody>\n",
       "</table>\n",
       "</div>"
      ],
      "text/plain": [
       "                     Description  \\\n",
       "                         nunique   \n",
       "Country                            \n",
       "Australia                    608   \n",
       "Austria                      306   \n",
       "Bahrain                       16   \n",
       "Belgium                      784   \n",
       "Brazil                        32   \n",
       "Canada                       147   \n",
       "Channel Islands              436   \n",
       "Cyprus                       498   \n",
       "Czech Republic                25   \n",
       "Denmark                      252   \n",
       "EIRE                        2017   \n",
       "European Community            50   \n",
       "Finland                      465   \n",
       "France                      1564   \n",
       "Germany                     1697   \n",
       "Greece                       138   \n",
       "Hong Kong                    194   \n",
       "Iceland                      103   \n",
       "Israel                       255   \n",
       "Italy                        476   \n",
       "Japan                        216   \n",
       "Lebanon                       45   \n",
       "Lithuania                     29   \n",
       "Malta                         99   \n",
       "Netherlands                  803   \n",
       "Norway                       595   \n",
       "Poland                       205   \n",
       "Portugal                     714   \n",
       "RSA                           58   \n",
       "Saudi Arabia                   9   \n",
       "Singapore                    179   \n",
       "Spain                       1105   \n",
       "Sweden                       261   \n",
       "Switzerland                  987   \n",
       "USA                          163   \n",
       "United Arab Emirates          68   \n",
       "United Kingdom              4058   \n",
       "Unspecified                  344   \n",
       "\n",
       "                                                                      \n",
       "                                                                mode  \n",
       "Country                                                               \n",
       "Australia                     ([RED TOADSTOOL LED NIGHT LIGHT], [9])  \n",
       "Austria                                            ([POSTAGE], [14])  \n",
       "Bahrain                  ([NOVELTY BISCUITS CAKE STAND 3 TIER], [2])  \n",
       "Belgium                                            ([POSTAGE], [96])  \n",
       "Brazil                           ([CLOCK MAGNET MUM'S KITCHEN], [1])  \n",
       "Canada                         ([COLOURING PENCILS BROWN TUBE], [3])  \n",
       "Channel Islands               ([DOORMAT HOME SWEET HOME BLUE ], [7])  \n",
       "Cyprus                             ([REGENCY CAKESTAND 3 TIER], [8])  \n",
       "Czech Republic          ([12 PENCILS SMALL TUBE RED RETROSPOT], [1])  \n",
       "Denmark                                            ([POSTAGE], [13])  \n",
       "EIRE                                             ([CARRIAGE], [106])  \n",
       "European Community                                  ([POSTAGE], [3])  \n",
       "Finland                                            ([POSTAGE], [37])  \n",
       "France                                            ([POSTAGE], [300])  \n",
       "Germany                                           ([POSTAGE], [374])  \n",
       "Greece                                              ([POSTAGE], [3])  \n",
       "Hong Kong                      ([MEASURING TAPE BABUSHKA PINK], [6])  \n",
       "Iceland                   ([AIRLINE BAG VINTAGE JET SET BROWN], [6])  \n",
       "Israel                               ([WOODLAND CHARLOTTE BAG], [4])  \n",
       "Italy                                              ([POSTAGE], [17])  \n",
       "Japan                        ([PACK OF 12 TRADITIONAL CRAYONS], [5])  \n",
       "Lebanon                           ([12 EGG HOUSE PAINTED WOOD], [1])  \n",
       "Lithuania                       ([FELTCRAFT CUSHION BUTTERFLY], [2])  \n",
       "Malta                                 ([GRAND CHOCOLATECANDLE], [3])  \n",
       "Netherlands                                        ([POSTAGE], [37])  \n",
       "Norway                                             ([POSTAGE], [20])  \n",
       "Poland                          ([LARGE CHINESE STYLE SCISSOR], [7])  \n",
       "Portugal                                           ([POSTAGE], [30])  \n",
       "RSA                             ([4 TRADITIONAL SPINNING TOPS], [1])  \n",
       "Saudi Arabia                  ([ASSORTED BOTTLE TOP  MAGNETS ], [1])  \n",
       "Singapore                                            ([Manual], [7])  \n",
       "Spain                                              ([POSTAGE], [62])  \n",
       "Sweden                                             ([POSTAGE], [22])  \n",
       "Switzerland                                        ([POSTAGE], [31])  \n",
       "USA                                        ([CARD DOLLY GIRL ], [2])  \n",
       "United Arab Emirates                ([ SPACEBOY BABY GIFT SET], [1])  \n",
       "United Kingdom        ([WHITE HANGING HEART T-LIGHT HOLDER], [2231])  \n",
       "Unspecified                        ([3 STRIPEY MICE FELTCRAFT], [4])  "
      ]
     },
     "execution_count": 34,
     "metadata": {},
     "output_type": "execute_result"
    }
   ],
   "source": [
    "popular_item_by_country "
   ]
  },
  {
   "cell_type": "markdown",
   "id": "538aa61c",
   "metadata": {},
   "source": [
    "### Revenue From Repeat Customers"
   ]
  },
  {
   "cell_type": "code",
   "execution_count": 48,
   "id": "cd3b1bb1",
   "metadata": {},
   "outputs": [],
   "source": [
    "monthly_rev_repeat_customers_df = invoice_customer_df.set_index('InvoiceDate').groupby([\n",
    "    pd.Grouper(freq='M'), 'CustomerID'\n",
    "]).filter(lambda x: len(x) > 1).resample('M')['Sales'].sum()\n",
    "\n"
   ]
  },
  {
   "cell_type": "code",
   "execution_count": 50,
   "id": "e99fc7be",
   "metadata": {},
   "outputs": [
    {
     "data": {
      "text/plain": [
       "InvoiceDate\n",
       "2010-12-31   359170.60\n",
       "2011-01-31   222124.00\n",
       "2011-02-28   191229.37\n",
       "2011-03-31   267390.48\n",
       "2011-04-30   195474.18\n",
       "2011-05-31   378197.04\n",
       "2011-06-30   376307.26\n",
       "2011-07-31   317475.00\n",
       "2011-08-31   317134.25\n",
       "2011-09-30   500663.36\n",
       "2011-10-31   574006.87\n",
       "2011-11-30   713775.85\n",
       "2011-12-31   146833.97\n",
       "Freq: M, Name: Sales, dtype: float64"
      ]
     },
     "execution_count": 50,
     "metadata": {},
     "output_type": "execute_result"
    }
   ],
   "source": [
    "monthly_rev_repeat_customers_df"
   ]
  },
  {
   "cell_type": "code",
   "execution_count": 55,
   "id": "21067916",
   "metadata": {},
   "outputs": [],
   "source": [
    "Percentage_Repeat_Revenue = monthly_rev_repeat_customers_df/monthly_revenue_df *100"
   ]
  },
  {
   "cell_type": "code",
   "execution_count": 56,
   "id": "39ecd957",
   "metadata": {},
   "outputs": [
    {
     "data": {
      "text/plain": [
       "InvoiceDate\n",
       "2010-12-31   43.60\n",
       "2011-01-31   32.13\n",
       "2011-02-28   36.52\n",
       "2011-03-31   37.26\n",
       "2011-04-30   36.35\n",
       "2011-05-31   49.08\n",
       "2011-06-30   49.40\n",
       "2011-07-31   44.14\n",
       "2011-08-31   43.03\n",
       "2011-09-30   47.30\n",
       "2011-10-31   49.70\n",
       "2011-11-30   47.29\n",
       "2011-12-31   22.99\n",
       "Freq: M, Name: Sales, dtype: float64"
      ]
     },
     "execution_count": 56,
     "metadata": {},
     "output_type": "execute_result"
    }
   ],
   "source": [
    "Percentage_Repeat_Revenue"
   ]
  },
  {
   "cell_type": "code",
   "execution_count": null,
   "id": "35f98567",
   "metadata": {},
   "outputs": [],
   "source": []
  }
 ],
 "metadata": {
  "kernelspec": {
   "display_name": "Python 3 (ipykernel)",
   "language": "python",
   "name": "python3"
  },
  "language_info": {
   "codemirror_mode": {
    "name": "ipython",
    "version": 3
   },
   "file_extension": ".py",
   "mimetype": "text/x-python",
   "name": "python",
   "nbconvert_exporter": "python",
   "pygments_lexer": "ipython3",
   "version": "3.9.12"
  }
 },
 "nbformat": 4,
 "nbformat_minor": 5
}
