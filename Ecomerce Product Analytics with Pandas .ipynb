{
 "cells": [
  {
   "cell_type": "code",
   "execution_count": 1,
   "id": "7b1793d6",
   "metadata": {},
   "outputs": [],
   "source": [
    "import pandas as pd\n",
    "import numpy as np\n",
    "import seaborn as sns\n",
    "pd.set_option('float_format', '{:.2f}'.format)\n"
   ]
  },
  {
   "cell_type": "code",
   "execution_count": 2,
   "id": "6e5206e1",
   "metadata": {},
   "outputs": [],
   "source": [
    "df = pd.read_csv('ecom.csv', encoding = 'unicode_escape')"
   ]
  },
  {
   "cell_type": "code",
   "execution_count": 3,
   "id": "be2de3ed",
   "metadata": {},
   "outputs": [
    {
     "data": {
      "text/html": [
       "<div>\n",
       "<style scoped>\n",
       "    .dataframe tbody tr th:only-of-type {\n",
       "        vertical-align: middle;\n",
       "    }\n",
       "\n",
       "    .dataframe tbody tr th {\n",
       "        vertical-align: top;\n",
       "    }\n",
       "\n",
       "    .dataframe thead th {\n",
       "        text-align: right;\n",
       "    }\n",
       "</style>\n",
       "<table border=\"1\" class=\"dataframe\">\n",
       "  <thead>\n",
       "    <tr style=\"text-align: right;\">\n",
       "      <th></th>\n",
       "      <th>InvoiceNo</th>\n",
       "      <th>StockCode</th>\n",
       "      <th>Description</th>\n",
       "      <th>Quantity</th>\n",
       "      <th>InvoiceDate</th>\n",
       "      <th>UnitPrice</th>\n",
       "      <th>CustomerID</th>\n",
       "      <th>Country</th>\n",
       "    </tr>\n",
       "  </thead>\n",
       "  <tbody>\n",
       "    <tr>\n",
       "      <th>0</th>\n",
       "      <td>536365</td>\n",
       "      <td>85123A</td>\n",
       "      <td>WHITE HANGING HEART T-LIGHT HOLDER</td>\n",
       "      <td>6</td>\n",
       "      <td>12/1/2010 8:26</td>\n",
       "      <td>2.55</td>\n",
       "      <td>17850.00</td>\n",
       "      <td>United Kingdom</td>\n",
       "    </tr>\n",
       "    <tr>\n",
       "      <th>1</th>\n",
       "      <td>536365</td>\n",
       "      <td>71053</td>\n",
       "      <td>WHITE METAL LANTERN</td>\n",
       "      <td>6</td>\n",
       "      <td>12/1/2010 8:26</td>\n",
       "      <td>3.39</td>\n",
       "      <td>17850.00</td>\n",
       "      <td>United Kingdom</td>\n",
       "    </tr>\n",
       "    <tr>\n",
       "      <th>2</th>\n",
       "      <td>536365</td>\n",
       "      <td>84406B</td>\n",
       "      <td>CREAM CUPID HEARTS COAT HANGER</td>\n",
       "      <td>8</td>\n",
       "      <td>12/1/2010 8:26</td>\n",
       "      <td>2.75</td>\n",
       "      <td>17850.00</td>\n",
       "      <td>United Kingdom</td>\n",
       "    </tr>\n",
       "    <tr>\n",
       "      <th>3</th>\n",
       "      <td>536365</td>\n",
       "      <td>84029G</td>\n",
       "      <td>KNITTED UNION FLAG HOT WATER BOTTLE</td>\n",
       "      <td>6</td>\n",
       "      <td>12/1/2010 8:26</td>\n",
       "      <td>3.39</td>\n",
       "      <td>17850.00</td>\n",
       "      <td>United Kingdom</td>\n",
       "    </tr>\n",
       "    <tr>\n",
       "      <th>4</th>\n",
       "      <td>536365</td>\n",
       "      <td>84029E</td>\n",
       "      <td>RED WOOLLY HOTTIE WHITE HEART.</td>\n",
       "      <td>6</td>\n",
       "      <td>12/1/2010 8:26</td>\n",
       "      <td>3.39</td>\n",
       "      <td>17850.00</td>\n",
       "      <td>United Kingdom</td>\n",
       "    </tr>\n",
       "  </tbody>\n",
       "</table>\n",
       "</div>"
      ],
      "text/plain": [
       "  InvoiceNo StockCode                          Description  Quantity  \\\n",
       "0    536365    85123A   WHITE HANGING HEART T-LIGHT HOLDER         6   \n",
       "1    536365     71053                  WHITE METAL LANTERN         6   \n",
       "2    536365    84406B       CREAM CUPID HEARTS COAT HANGER         8   \n",
       "3    536365    84029G  KNITTED UNION FLAG HOT WATER BOTTLE         6   \n",
       "4    536365    84029E       RED WOOLLY HOTTIE WHITE HEART.         6   \n",
       "\n",
       "      InvoiceDate  UnitPrice  CustomerID         Country  \n",
       "0  12/1/2010 8:26       2.55    17850.00  United Kingdom  \n",
       "1  12/1/2010 8:26       3.39    17850.00  United Kingdom  \n",
       "2  12/1/2010 8:26       2.75    17850.00  United Kingdom  \n",
       "3  12/1/2010 8:26       3.39    17850.00  United Kingdom  \n",
       "4  12/1/2010 8:26       3.39    17850.00  United Kingdom  "
      ]
     },
     "execution_count": 3,
     "metadata": {},
     "output_type": "execute_result"
    }
   ],
   "source": [
    "df.head()"
   ]
  },
  {
   "cell_type": "code",
   "execution_count": 4,
   "id": "987bcd61",
   "metadata": {},
   "outputs": [
    {
     "data": {
      "text/plain": [
       "(541909, 8)"
      ]
     },
     "execution_count": 4,
     "metadata": {},
     "output_type": "execute_result"
    }
   ],
   "source": [
    "df.shape"
   ]
  },
  {
   "cell_type": "code",
   "execution_count": 5,
   "id": "d04f767c",
   "metadata": {},
   "outputs": [],
   "source": [
    "%matplotlib inline\n",
    "import matplotlib.pyplot as plt\n",
    "import seaborn\n",
    "seaborn.set()"
   ]
  },
  {
   "cell_type": "code",
   "execution_count": 6,
   "id": "0a2f6988",
   "metadata": {},
   "outputs": [
    {
     "data": {
      "image/png": "[encoded data removed]",
      "text/plain": [
       "<Figure size 1152x504 with 1 Axes>"
      ]
     },
     "metadata": {},
     "output_type": "display_data"
    }
   ],
   "source": [
    "ax = df['Quantity'].plot.box(\n",
    "    showfliers=False,\n",
    "    grid=True,\n",
    "    figsize=(16, 7)\n",
    ")\n",
    "\n",
    "ax.set_ylabel('Order Quantity')\n",
    "ax.set_title('Quantity Distribution')\n",
    "\n",
    "plt.suptitle(\"\")\n",
    "plt.show()\n"
   ]
  },
  {
   "cell_type": "code",
   "execution_count": 7,
   "id": "7ad4b1ae",
   "metadata": {},
   "outputs": [
    {
     "data": {
      "text/plain": [
       "count   541909.00\n",
       "mean         9.55\n",
       "std        218.08\n",
       "min     -80995.00\n",
       "25%          1.00\n",
       "50%          3.00\n",
       "75%         10.00\n",
       "max      80995.00\n",
       "Name: Quantity, dtype: float64"
      ]
     },
     "execution_count": 7,
     "metadata": {},
     "output_type": "execute_result"
    }
   ],
   "source": [
    "df['Quantity'].describe()"
   ]
  },
  {
   "cell_type": "code",
   "execution_count": 111,
   "id": "153984b4",
   "metadata": {},
   "outputs": [],
   "source": [
    "#Remove all records were Quantity is 0\n",
    "df = df.loc[df['Quantity']>0]"
   ]
  },
  {
   "cell_type": "code",
   "execution_count": 112,
   "id": "238fa91a",
   "metadata": {},
   "outputs": [
    {
     "data": {
      "text/plain": [
       "(531285, 10)"
      ]
     },
     "execution_count": 112,
     "metadata": {},
     "output_type": "execute_result"
    }
   ],
   "source": [
    "#Total of 531285 ecommerce transactions from Dec, 2010 - Dec, 2011\n",
    "df.shape"
   ]
  },
  {
   "cell_type": "markdown",
   "id": "08464e31",
   "metadata": {},
   "source": [
    "### Monthly Sales"
   ]
  },
  {
   "cell_type": "code",
   "execution_count": 113,
   "id": "d61ae813",
   "metadata": {},
   "outputs": [],
   "source": [
    "# We compute the sales for all transactions and assign the values to a new Column called 'Sales'\n",
    "df['Sales'] = df['Quantity'] * df['UnitPrice']"
   ]
  },
  {
   "cell_type": "code",
   "execution_count": 11,
   "id": "448ea118",
   "metadata": {},
   "outputs": [
    {
     "data": {
      "text/html": [
       "<div>\n",
       "<style scoped>\n",
       "    .dataframe tbody tr th:only-of-type {\n",
       "        vertical-align: middle;\n",
       "    }\n",
       "\n",
       "    .dataframe tbody tr th {\n",
       "        vertical-align: top;\n",
       "    }\n",
       "\n",
       "    .dataframe thead th {\n",
       "        text-align: right;\n",
       "    }\n",
       "</style>\n",
       "<table border=\"1\" class=\"dataframe\">\n",
       "  <thead>\n",
       "    <tr style=\"text-align: right;\">\n",
       "      <th></th>\n",
       "      <th>InvoiceNo</th>\n",
       "      <th>StockCode</th>\n",
       "      <th>Description</th>\n",
       "      <th>Quantity</th>\n",
       "      <th>InvoiceDate</th>\n",
       "      <th>UnitPrice</th>\n",
       "      <th>CustomerID</th>\n",
       "      <th>Country</th>\n",
       "      <th>Sales</th>\n",
       "    </tr>\n",
       "  </thead>\n",
       "  <tbody>\n",
       "    <tr>\n",
       "      <th>0</th>\n",
       "      <td>536365</td>\n",
       "      <td>85123A</td>\n",
       "      <td>WHITE HANGING HEART T-LIGHT HOLDER</td>\n",
       "      <td>6</td>\n",
       "      <td>12/1/2010 8:26</td>\n",
       "      <td>2.55</td>\n",
       "      <td>17850.00</td>\n",
       "      <td>United Kingdom</td>\n",
       "      <td>15.30</td>\n",
       "    </tr>\n",
       "    <tr>\n",
       "      <th>1</th>\n",
       "      <td>536365</td>\n",
       "      <td>71053</td>\n",
       "      <td>WHITE METAL LANTERN</td>\n",
       "      <td>6</td>\n",
       "      <td>12/1/2010 8:26</td>\n",
       "      <td>3.39</td>\n",
       "      <td>17850.00</td>\n",
       "      <td>United Kingdom</td>\n",
       "      <td>20.34</td>\n",
       "    </tr>\n",
       "    <tr>\n",
       "      <th>2</th>\n",
       "      <td>536365</td>\n",
       "      <td>84406B</td>\n",
       "      <td>CREAM CUPID HEARTS COAT HANGER</td>\n",
       "      <td>8</td>\n",
       "      <td>12/1/2010 8:26</td>\n",
       "      <td>2.75</td>\n",
       "      <td>17850.00</td>\n",
       "      <td>United Kingdom</td>\n",
       "      <td>22.00</td>\n",
       "    </tr>\n",
       "    <tr>\n",
       "      <th>3</th>\n",
       "      <td>536365</td>\n",
       "      <td>84029G</td>\n",
       "      <td>KNITTED UNION FLAG HOT WATER BOTTLE</td>\n",
       "      <td>6</td>\n",
       "      <td>12/1/2010 8:26</td>\n",
       "      <td>3.39</td>\n",
       "      <td>17850.00</td>\n",
       "      <td>United Kingdom</td>\n",
       "      <td>20.34</td>\n",
       "    </tr>\n",
       "    <tr>\n",
       "      <th>4</th>\n",
       "      <td>536365</td>\n",
       "      <td>84029E</td>\n",
       "      <td>RED WOOLLY HOTTIE WHITE HEART.</td>\n",
       "      <td>6</td>\n",
       "      <td>12/1/2010 8:26</td>\n",
       "      <td>3.39</td>\n",
       "      <td>17850.00</td>\n",
       "      <td>United Kingdom</td>\n",
       "      <td>20.34</td>\n",
       "    </tr>\n",
       "  </tbody>\n",
       "</table>\n",
       "</div>"
      ],
      "text/plain": [
       "  InvoiceNo StockCode                          Description  Quantity  \\\n",
       "0    536365    85123A   WHITE HANGING HEART T-LIGHT HOLDER         6   \n",
       "1    536365     71053                  WHITE METAL LANTERN         6   \n",
       "2    536365    84406B       CREAM CUPID HEARTS COAT HANGER         8   \n",
       "3    536365    84029G  KNITTED UNION FLAG HOT WATER BOTTLE         6   \n",
       "4    536365    84029E       RED WOOLLY HOTTIE WHITE HEART.         6   \n",
       "\n",
       "      InvoiceDate  UnitPrice  CustomerID         Country  Sales  \n",
       "0  12/1/2010 8:26       2.55    17850.00  United Kingdom  15.30  \n",
       "1  12/1/2010 8:26       3.39    17850.00  United Kingdom  20.34  \n",
       "2  12/1/2010 8:26       2.75    17850.00  United Kingdom  22.00  \n",
       "3  12/1/2010 8:26       3.39    17850.00  United Kingdom  20.34  \n",
       "4  12/1/2010 8:26       3.39    17850.00  United Kingdom  20.34  "
      ]
     },
     "execution_count": 11,
     "metadata": {},
     "output_type": "execute_result"
    }
   ],
   "source": [
    "df.head()"
   ]
  },
  {
   "cell_type": "code",
   "execution_count": 12,
   "id": "dd23f673",
   "metadata": {},
   "outputs": [
    {
     "data": {
      "text/plain": [
       "count   531285.00\n",
       "mean        20.04\n",
       "std        270.91\n",
       "min     -11062.06\n",
       "25%          3.75\n",
       "50%          9.90\n",
       "75%         17.70\n",
       "max     168469.60\n",
       "Name: Sales, dtype: float64"
      ]
     },
     "execution_count": 12,
     "metadata": {},
     "output_type": "execute_result"
    }
   ],
   "source": [
    "df['Sales'].describe()"
   ]
  },
  {
   "cell_type": "code",
   "execution_count": 13,
   "id": "0a8e3d95",
   "metadata": {},
   "outputs": [
    {
     "data": {
      "image/png": "[encoded data removed]",
      "text/plain": [
       "<Figure size 1152x504 with 1 Axes>"
      ]
     },
     "metadata": {},
     "output_type": "display_data"
    }
   ],
   "source": [
    "ax = df['Sales'].plot.box(\n",
    "    showfliers=False,\n",
    "    grid=True,\n",
    "    figsize=(16, 7)\n",
    ")\n",
    "\n",
    "ax.set_ylabel('Order Quantity')\n",
    "ax.set_title('Quantity Distribution')\n",
    "\n",
    "plt.suptitle(\"\")\n",
    "plt.show()\n"
   ]
  },
  {
   "cell_type": "code",
   "execution_count": 40,
   "id": "4cf47de6",
   "metadata": {},
   "outputs": [],
   "source": [
    "monthly_revenue_df = df.set_index('InvoiceDate')['Sales'].resample('M').sum()"
   ]
  },
  {
   "cell_type": "code",
   "execution_count": 114,
   "id": "4bebdc8c",
   "metadata": {},
   "outputs": [
    {
     "data": {
      "text/plain": [
       "InvoiceDate\n",
       "2010-12-31    823746.14\n",
       "2011-01-31    691364.56\n",
       "2011-02-28    523631.89\n",
       "2011-03-31    717639.36\n",
       "2011-04-30    537808.62\n",
       "2011-05-31    770536.02\n",
       "2011-06-30    761739.90\n",
       "2011-07-31    719221.19\n",
       "2011-08-31    737014.26\n",
       "2011-09-30   1058590.17\n",
       "2011-10-31   1154979.30\n",
       "2011-11-30   1509496.33\n",
       "2011-12-31    638792.68\n",
       "Freq: M, Name: Sales, dtype: float64"
      ]
     },
     "execution_count": 114,
     "metadata": {},
     "output_type": "execute_result"
    }
   ],
   "source": [
    "#Revenue for each month\n",
    "monthly_revenue_df"
   ]
  },
  {
   "cell_type": "code",
   "execution_count": 42,
   "id": "9a4f9844",
   "metadata": {},
   "outputs": [
    {
     "data": {
      "image/png": "[encoded data removed]",
      "text/plain": [
       "<Figure size 1152x504 with 1 Axes>"
      ]
     },
     "metadata": {},
     "output_type": "display_data"
    }
   ],
   "source": [
    "ax = pd.DataFrame(monthly_revenue_df.values).plot(\n",
    "    grid=True,\n",
    "    figsize=(16,7),\n",
    "    legend=False\n",
    ")\n",
    "\n",
    "ax.set_xlabel('Date')\n",
    "ax.set_ylabel('Sales')\n",
    "ax.set_title('Total Revenue Over Time')\n",
    "\n",
    "ax.set_ylim([0, max(monthly_revenue_df.values)+100000])\n",
    "\n",
    "plt.xticks(\n",
    "    range(len(monthly_revenue_df.index)), \n",
    "    [x.strftime('%m.%Y') for x in monthly_revenue_df.index], \n",
    "    \n",
    ")\n",
    "\n",
    "plt.show()\n",
    "\n"
   ]
  },
  {
   "cell_type": "markdown",
   "id": "d63396d8",
   "metadata": {},
   "source": [
    "### Monthly Orders "
   ]
  },
  {
   "cell_type": "code",
   "execution_count": 18,
   "id": "8488a818",
   "metadata": {},
   "outputs": [
    {
     "data": {
      "text/plain": [
       "InvoiceNo       object\n",
       "StockCode       object\n",
       "Description     object\n",
       "Quantity         int64\n",
       "InvoiceDate     object\n",
       "UnitPrice      float64\n",
       "CustomerID     float64\n",
       "Country         object\n",
       "Sales          float64\n",
       "dtype: object"
      ]
     },
     "execution_count": 18,
     "metadata": {},
     "output_type": "execute_result"
    }
   ],
   "source": [
    "df.dtypes"
   ]
  },
  {
   "cell_type": "code",
   "execution_count": 19,
   "id": "b1597a75",
   "metadata": {},
   "outputs": [],
   "source": [
    "df['InvoiceDate'] = pd.to_datetime(df['InvoiceDate'])"
   ]
  },
  {
   "cell_type": "code",
   "execution_count": 20,
   "id": "0a26167c",
   "metadata": {},
   "outputs": [
    {
     "data": {
      "text/plain": [
       "InvoiceNo              object\n",
       "StockCode              object\n",
       "Description            object\n",
       "Quantity                int64\n",
       "InvoiceDate    datetime64[ns]\n",
       "UnitPrice             float64\n",
       "CustomerID            float64\n",
       "Country                object\n",
       "Sales                 float64\n",
       "dtype: object"
      ]
     },
     "execution_count": 20,
     "metadata": {},
     "output_type": "execute_result"
    }
   ],
   "source": [
    "df.dtypes"
   ]
  },
  {
   "cell_type": "code",
   "execution_count": 21,
   "id": "cceb6cb5",
   "metadata": {},
   "outputs": [],
   "source": [
    "monthly_orders_df = df.set_index('InvoiceDate')['InvoiceNo'].resample('M').nunique()"
   ]
  },
  {
   "cell_type": "code",
   "execution_count": 22,
   "id": "07d9db50",
   "metadata": {},
   "outputs": [],
   "source": [
    "customer_df = df.set_index('InvoiceDate')['CustomerID'].resample('M').nunique()"
   ]
  },
  {
   "cell_type": "code",
   "execution_count": 23,
   "id": "f68b375d",
   "metadata": {
    "scrolled": true
   },
   "outputs": [
    {
     "data": {
      "image/png": "[encoded data removed]",
      "text/plain": [
       "<Figure size 1152x504 with 1 Axes>"
      ]
     },
     "metadata": {},
     "output_type": "display_data"
    }
   ],
   "source": [
    "ax = pd.DataFrame(monthly_orders_df.values).plot(\n",
    "    grid=True,\n",
    "    figsize=(16,7),\n",
    "    legend=False\n",
    ")\n",
    "\n",
    "pd.DataFrame(customer_df.values).plot(\n",
    "    ax=ax,\n",
    "    grid=True\n",
    ")\n",
    "\n",
    "\n",
    "ax.set_xlabel('Date')\n",
    "ax.set_ylabel('Number of Orders & Customers')\n",
    "ax.set_title('Total Number of Orders Over Time')\n",
    "\n",
    "ax.legend(['Orders over time', 'All Customers'])\n",
    "\n",
    "\n",
    "plt.xticks(\n",
    "    range(len(monthly_orders_df.index)), \n",
    "    [x.strftime('%m.%Y') for x in monthly_orders_df.index], \n",
    "    rotation=45\n",
    ")\n",
    "\n",
    "plt.show()\n",
    "\n",
    "\n"
   ]
  },
  {
   "cell_type": "markdown",
   "id": "113fbd0c",
   "metadata": {},
   "source": [
    "### No. of Orders by Hour"
   ]
  },
  {
   "cell_type": "code",
   "execution_count": 24,
   "id": "8f42ab36",
   "metadata": {},
   "outputs": [],
   "source": [
    "df['Hour']=df.set_index('InvoiceDate').index.hour"
   ]
  },
  {
   "cell_type": "code",
   "execution_count": 25,
   "id": "7d8503e4",
   "metadata": {
    "scrolled": true
   },
   "outputs": [
    {
     "data": {
      "text/html": [
       "<div>\n",
       "<style scoped>\n",
       "    .dataframe tbody tr th:only-of-type {\n",
       "        vertical-align: middle;\n",
       "    }\n",
       "\n",
       "    .dataframe tbody tr th {\n",
       "        vertical-align: top;\n",
       "    }\n",
       "\n",
       "    .dataframe thead th {\n",
       "        text-align: right;\n",
       "    }\n",
       "</style>\n",
       "<table border=\"1\" class=\"dataframe\">\n",
       "  <thead>\n",
       "    <tr style=\"text-align: right;\">\n",
       "      <th></th>\n",
       "      <th>InvoiceNo</th>\n",
       "      <th>StockCode</th>\n",
       "      <th>Description</th>\n",
       "      <th>Quantity</th>\n",
       "      <th>InvoiceDate</th>\n",
       "      <th>UnitPrice</th>\n",
       "      <th>CustomerID</th>\n",
       "      <th>Country</th>\n",
       "      <th>Sales</th>\n",
       "      <th>Hour</th>\n",
       "    </tr>\n",
       "  </thead>\n",
       "  <tbody>\n",
       "    <tr>\n",
       "      <th>0</th>\n",
       "      <td>536365</td>\n",
       "      <td>85123A</td>\n",
       "      <td>WHITE HANGING HEART T-LIGHT HOLDER</td>\n",
       "      <td>6</td>\n",
       "      <td>2010-12-01 08:26:00</td>\n",
       "      <td>2.55</td>\n",
       "      <td>17850.00</td>\n",
       "      <td>United Kingdom</td>\n",
       "      <td>15.30</td>\n",
       "      <td>8</td>\n",
       "    </tr>\n",
       "    <tr>\n",
       "      <th>1</th>\n",
       "      <td>536365</td>\n",
       "      <td>71053</td>\n",
       "      <td>WHITE METAL LANTERN</td>\n",
       "      <td>6</td>\n",
       "      <td>2010-12-01 08:26:00</td>\n",
       "      <td>3.39</td>\n",
       "      <td>17850.00</td>\n",
       "      <td>United Kingdom</td>\n",
       "      <td>20.34</td>\n",
       "      <td>8</td>\n",
       "    </tr>\n",
       "    <tr>\n",
       "      <th>2</th>\n",
       "      <td>536365</td>\n",
       "      <td>84406B</td>\n",
       "      <td>CREAM CUPID HEARTS COAT HANGER</td>\n",
       "      <td>8</td>\n",
       "      <td>2010-12-01 08:26:00</td>\n",
       "      <td>2.75</td>\n",
       "      <td>17850.00</td>\n",
       "      <td>United Kingdom</td>\n",
       "      <td>22.00</td>\n",
       "      <td>8</td>\n",
       "    </tr>\n",
       "    <tr>\n",
       "      <th>3</th>\n",
       "      <td>536365</td>\n",
       "      <td>84029G</td>\n",
       "      <td>KNITTED UNION FLAG HOT WATER BOTTLE</td>\n",
       "      <td>6</td>\n",
       "      <td>2010-12-01 08:26:00</td>\n",
       "      <td>3.39</td>\n",
       "      <td>17850.00</td>\n",
       "      <td>United Kingdom</td>\n",
       "      <td>20.34</td>\n",
       "      <td>8</td>\n",
       "    </tr>\n",
       "    <tr>\n",
       "      <th>4</th>\n",
       "      <td>536365</td>\n",
       "      <td>84029E</td>\n",
       "      <td>RED WOOLLY HOTTIE WHITE HEART.</td>\n",
       "      <td>6</td>\n",
       "      <td>2010-12-01 08:26:00</td>\n",
       "      <td>3.39</td>\n",
       "      <td>17850.00</td>\n",
       "      <td>United Kingdom</td>\n",
       "      <td>20.34</td>\n",
       "      <td>8</td>\n",
       "    </tr>\n",
       "  </tbody>\n",
       "</table>\n",
       "</div>"
      ],
      "text/plain": [
       "  InvoiceNo StockCode                          Description  Quantity  \\\n",
       "0    536365    85123A   WHITE HANGING HEART T-LIGHT HOLDER         6   \n",
       "1    536365     71053                  WHITE METAL LANTERN         6   \n",
       "2    536365    84406B       CREAM CUPID HEARTS COAT HANGER         8   \n",
       "3    536365    84029G  KNITTED UNION FLAG HOT WATER BOTTLE         6   \n",
       "4    536365    84029E       RED WOOLLY HOTTIE WHITE HEART.         6   \n",
       "\n",
       "          InvoiceDate  UnitPrice  CustomerID         Country  Sales  Hour  \n",
       "0 2010-12-01 08:26:00       2.55    17850.00  United Kingdom  15.30     8  \n",
       "1 2010-12-01 08:26:00       3.39    17850.00  United Kingdom  20.34     8  \n",
       "2 2010-12-01 08:26:00       2.75    17850.00  United Kingdom  22.00     8  \n",
       "3 2010-12-01 08:26:00       3.39    17850.00  United Kingdom  20.34     8  \n",
       "4 2010-12-01 08:26:00       3.39    17850.00  United Kingdom  20.34     8  "
      ]
     },
     "execution_count": 25,
     "metadata": {},
     "output_type": "execute_result"
    }
   ],
   "source": [
    "df.head()"
   ]
  },
  {
   "cell_type": "code",
   "execution_count": 26,
   "id": "4357761b",
   "metadata": {},
   "outputs": [],
   "source": [
    "df_hour = pd.DataFrame(df.groupby(['Hour'])['Quantity'].count())"
   ]
  },
  {
   "cell_type": "code",
   "execution_count": 27,
   "id": "e65daf94",
   "metadata": {},
   "outputs": [
    {
     "data": {
      "image/png": "[encoded data removed]",
      "text/plain": [
       "<Figure size 1152x504 with 1 Axes>"
      ]
     },
     "metadata": {},
     "output_type": "display_data"
    }
   ],
   "source": [
    "ax = df_hour.plot(\n",
    "    kind='bar', \n",
    "    grid=True,\n",
    "    figsize=(16,7))\n",
    "\n",
    "ax.set_title('Quantity Sold By Hour')\n",
    "ax.set_xlabel('Hours')\n",
    "ax.set_ylabel('Quantity Sold')\n",
    "ax.set_ylim([0, max(df_hour.values)+10000])\n",
    "plt.show()"
   ]
  },
  {
   "cell_type": "markdown",
   "id": "1d8c5642",
   "metadata": {},
   "source": [
    "### Orders from Repeat Customers"
   ]
  },
  {
   "cell_type": "code",
   "execution_count": 28,
   "id": "70622b90",
   "metadata": {},
   "outputs": [],
   "source": [
    "monthly_repeat_customers_df = df.set_index('InvoiceDate').groupby([\n",
    "    pd.Grouper(freq='M'), 'CustomerID'\n",
    "]).filter(lambda x: len(x) > 1).resample('M').nunique()['CustomerID']\n"
   ]
  },
  {
   "cell_type": "code",
   "execution_count": 29,
   "id": "67b7d9cd",
   "metadata": {},
   "outputs": [
    {
     "data": {
      "text/plain": [
       "InvoiceDate\n",
       "2010-12-31    855\n",
       "2011-01-31    717\n",
       "2011-02-28    726\n",
       "2011-03-31    946\n",
       "2011-04-30    831\n",
       "Freq: M, Name: CustomerID, dtype: int64"
      ]
     },
     "execution_count": 29,
     "metadata": {},
     "output_type": "execute_result"
    }
   ],
   "source": [
    "monthly_repeat_customers_df.head()"
   ]
  },
  {
   "cell_type": "code",
   "execution_count": 30,
   "id": "ce65de20",
   "metadata": {},
   "outputs": [],
   "source": [
    "invoice_customer_df = df.groupby(\n",
    "    by=['InvoiceNo', 'InvoiceDate']\n",
    ").agg({\n",
    "    'Sales': sum,\n",
    "    'CustomerID': max,\n",
    "    'Country': max,\n",
    "}).reset_index()"
   ]
  },
  {
   "cell_type": "code",
   "execution_count": 31,
   "id": "a7952bcd",
   "metadata": {},
   "outputs": [
    {
     "data": {
      "text/html": [
       "<div>\n",
       "<style scoped>\n",
       "    .dataframe tbody tr th:only-of-type {\n",
       "        vertical-align: middle;\n",
       "    }\n",
       "\n",
       "    .dataframe tbody tr th {\n",
       "        vertical-align: top;\n",
       "    }\n",
       "\n",
       "    .dataframe thead th {\n",
       "        text-align: right;\n",
       "    }\n",
       "</style>\n",
       "<table border=\"1\" class=\"dataframe\">\n",
       "  <thead>\n",
       "    <tr style=\"text-align: right;\">\n",
       "      <th></th>\n",
       "      <th>InvoiceNo</th>\n",
       "      <th>InvoiceDate</th>\n",
       "      <th>Sales</th>\n",
       "      <th>CustomerID</th>\n",
       "      <th>Country</th>\n",
       "    </tr>\n",
       "  </thead>\n",
       "  <tbody>\n",
       "    <tr>\n",
       "      <th>0</th>\n",
       "      <td>536365</td>\n",
       "      <td>2010-12-01 08:26:00</td>\n",
       "      <td>139.12</td>\n",
       "      <td>17850.00</td>\n",
       "      <td>United Kingdom</td>\n",
       "    </tr>\n",
       "    <tr>\n",
       "      <th>1</th>\n",
       "      <td>536366</td>\n",
       "      <td>2010-12-01 08:28:00</td>\n",
       "      <td>22.20</td>\n",
       "      <td>17850.00</td>\n",
       "      <td>United Kingdom</td>\n",
       "    </tr>\n",
       "    <tr>\n",
       "      <th>2</th>\n",
       "      <td>536367</td>\n",
       "      <td>2010-12-01 08:34:00</td>\n",
       "      <td>278.73</td>\n",
       "      <td>13047.00</td>\n",
       "      <td>United Kingdom</td>\n",
       "    </tr>\n",
       "    <tr>\n",
       "      <th>3</th>\n",
       "      <td>536368</td>\n",
       "      <td>2010-12-01 08:34:00</td>\n",
       "      <td>70.05</td>\n",
       "      <td>13047.00</td>\n",
       "      <td>United Kingdom</td>\n",
       "    </tr>\n",
       "    <tr>\n",
       "      <th>4</th>\n",
       "      <td>536369</td>\n",
       "      <td>2010-12-01 08:35:00</td>\n",
       "      <td>17.85</td>\n",
       "      <td>13047.00</td>\n",
       "      <td>United Kingdom</td>\n",
       "    </tr>\n",
       "  </tbody>\n",
       "</table>\n",
       "</div>"
      ],
      "text/plain": [
       "  InvoiceNo         InvoiceDate  Sales  CustomerID         Country\n",
       "0    536365 2010-12-01 08:26:00 139.12    17850.00  United Kingdom\n",
       "1    536366 2010-12-01 08:28:00  22.20    17850.00  United Kingdom\n",
       "2    536367 2010-12-01 08:34:00 278.73    13047.00  United Kingdom\n",
       "3    536368 2010-12-01 08:34:00  70.05    13047.00  United Kingdom\n",
       "4    536369 2010-12-01 08:35:00  17.85    13047.00  United Kingdom"
      ]
     },
     "execution_count": 31,
     "metadata": {},
     "output_type": "execute_result"
    }
   ],
   "source": [
    "invoice_customer_df.head()"
   ]
  },
  {
   "cell_type": "code",
   "execution_count": 32,
   "id": "5b7880e5",
   "metadata": {},
   "outputs": [],
   "source": [
    "monthly_repeat_customers_df = invoice_customer_df.set_index('InvoiceDate').groupby([\n",
    "    pd.Grouper(freq='M'), 'CustomerID'\n",
    "]).filter(lambda x: len(x) > 1).resample('M').nunique()['CustomerID']"
   ]
  },
  {
   "cell_type": "code",
   "execution_count": 33,
   "id": "c4638417",
   "metadata": {},
   "outputs": [
    {
     "data": {
      "text/plain": [
       "InvoiceDate\n",
       "2010-12-31    263\n",
       "2011-01-31    153\n",
       "2011-02-28    153\n",
       "2011-03-31    203\n",
       "2011-04-30    170\n",
       "Freq: M, Name: CustomerID, dtype: int64"
      ]
     },
     "execution_count": 33,
     "metadata": {},
     "output_type": "execute_result"
    }
   ],
   "source": [
    "monthly_repeat_customers_df.head()"
   ]
  },
  {
   "cell_type": "code",
   "execution_count": 34,
   "id": "d5374a6a",
   "metadata": {},
   "outputs": [],
   "source": [
    "monthly_unique_customer = df.set_index('InvoiceDate')['CustomerID'].resample('M').nunique()"
   ]
  },
  {
   "cell_type": "code",
   "execution_count": 35,
   "id": "dbe26401",
   "metadata": {},
   "outputs": [
    {
     "data": {
      "text/plain": [
       "InvoiceDate\n",
       "2010-12-31    885\n",
       "2011-01-31    741\n",
       "2011-02-28    758\n",
       "2011-03-31    974\n",
       "2011-04-30    856\n",
       "Freq: M, Name: CustomerID, dtype: int64"
      ]
     },
     "execution_count": 35,
     "metadata": {},
     "output_type": "execute_result"
    }
   ],
   "source": [
    "monthly_unique_customer.head()"
   ]
  },
  {
   "cell_type": "code",
   "execution_count": 36,
   "id": "a7fbe7e2",
   "metadata": {},
   "outputs": [],
   "source": [
    "Repeat_customer_percentage = monthly_repeat_customers_df/monthly_unique_customer *100"
   ]
  },
  {
   "cell_type": "code",
   "execution_count": 37,
   "id": "ebd99f27",
   "metadata": {},
   "outputs": [
    {
     "data": {
      "text/plain": [
       "InvoiceDate\n",
       "2010-12-31   29.72\n",
       "2011-01-31   20.65\n",
       "2011-02-28   20.18\n",
       "2011-03-31   20.84\n",
       "2011-04-30   19.86\n",
       "2011-05-31   26.61\n",
       "2011-06-30   22.20\n",
       "2011-07-31   23.92\n",
       "2011-08-31   21.18\n",
       "2011-09-30   21.48\n",
       "2011-10-31   23.75\n",
       "2011-11-30   32.49\n",
       "2011-12-31   17.24\n",
       "Freq: M, Name: CustomerID, dtype: float64"
      ]
     },
     "execution_count": 37,
     "metadata": {},
     "output_type": "execute_result"
    }
   ],
   "source": [
    "Repeat_customer_percentage"
   ]
  },
  {
   "cell_type": "markdown",
   "id": "82f48ab7",
   "metadata": {},
   "source": [
    "### Revenue From Repeat Customers"
   ]
  },
  {
   "cell_type": "code",
   "execution_count": 44,
   "id": "57b1c437",
   "metadata": {},
   "outputs": [],
   "source": [
    "monthly_rev_repeat_customers_df = invoice_customer_df.set_index('InvoiceDate').groupby([\n",
    "    pd.Grouper(freq='M'), 'CustomerID'\n",
    "]).filter(lambda x: len(x) > 1).resample('M')['Sales'].sum()\n",
    "\n"
   ]
  },
  {
   "cell_type": "code",
   "execution_count": 45,
   "id": "9c37390a",
   "metadata": {},
   "outputs": [
    {
     "data": {
      "text/plain": [
       "InvoiceDate\n",
       "2010-12-31   359170.60\n",
       "2011-01-31   222124.00\n",
       "2011-02-28   191229.37\n",
       "2011-03-31   267390.48\n",
       "2011-04-30   195474.18\n",
       "2011-05-31   378197.04\n",
       "2011-06-30   376307.26\n",
       "2011-07-31   317475.00\n",
       "2011-08-31   317134.25\n",
       "2011-09-30   500663.36\n",
       "2011-10-31   574006.87\n",
       "2011-11-30   713775.85\n",
       "2011-12-31   146833.97\n",
       "Freq: M, Name: Sales, dtype: float64"
      ]
     },
     "execution_count": 45,
     "metadata": {},
     "output_type": "execute_result"
    }
   ],
   "source": [
    "monthly_rev_repeat_customers_df"
   ]
  },
  {
   "cell_type": "code",
   "execution_count": 46,
   "id": "f610522c",
   "metadata": {},
   "outputs": [],
   "source": [
    "Percentage_Repeat_Revenue = monthly_rev_repeat_customers_df/monthly_revenue_df *100"
   ]
  },
  {
   "cell_type": "code",
   "execution_count": 47,
   "id": "2ff3df2a",
   "metadata": {},
   "outputs": [
    {
     "data": {
      "text/plain": [
       "InvoiceDate\n",
       "2010-12-31   43.60\n",
       "2011-01-31   32.13\n",
       "2011-02-28   36.52\n",
       "2011-03-31   37.26\n",
       "2011-04-30   36.35\n",
       "2011-05-31   49.08\n",
       "2011-06-30   49.40\n",
       "2011-07-31   44.14\n",
       "2011-08-31   43.03\n",
       "2011-09-30   47.30\n",
       "2011-10-31   49.70\n",
       "2011-11-30   47.29\n",
       "2011-12-31   22.99\n",
       "Freq: M, Name: Sales, dtype: float64"
      ]
     },
     "execution_count": 47,
     "metadata": {},
     "output_type": "execute_result"
    }
   ],
   "source": [
    "Percentage_Repeat_Revenue"
   ]
  },
  {
   "cell_type": "code",
   "execution_count": 69,
   "id": "201111aa",
   "metadata": {},
   "outputs": [
    {
     "data": {
      "image/png": "[encoded data removed]",
      "text/plain": [
       "<Figure size 1152x648 with 2 Axes>"
      ]
     },
     "metadata": {},
     "output_type": "display_data"
    }
   ],
   "source": [
    "ax = pd.DataFrame(monthly_revenue_df.values).plot(figsize=(16,9))\n",
    "\n",
    "pd.DataFrame(monthly_rev_repeat_customers_df.values).plot(\n",
    "    ax=ax,\n",
    "    grid=True,\n",
    ")\n",
    "\n",
    "ax.set_xlabel('Date')\n",
    "ax.set_ylabel('Sales')\n",
    "ax.set_title('Total Revenue vs. Revenue from Repeat Customers')\n",
    "\n",
    "ax.legend(['Total Revenue', 'Repeat Customer Revenue'])\n",
    "\n",
    "ax.set_ylim([0, max(monthly_revenue_df.values)+100000])\n",
    "\n",
    "ax2 = ax.twinx()\n",
    "\n",
    "pd.DataFrame(Percentage_Repeat_Revenue.values).plot(\n",
    "    ax=ax2,\n",
    "    kind='bar',\n",
    "    color='g',\n",
    "    alpha=0.2\n",
    ")\n",
    "\n",
    "ax2.set_ylim([0, max(Percentage_Repeat_Revenue.values)+40])\n",
    "ax2.set_ylabel('percentage (%)')\n",
    "ax2.legend(['Repeat Revenue Percentage'])\n",
    "\n",
    "ax2.set_xticklabels([\n",
    "    x.strftime('%m.%Y') for x in Percentage_Repeat_Revenue.index\n",
    "])\n",
    "\n",
    "plt.show()"
   ]
  },
  {
   "cell_type": "markdown",
   "id": "0e47ecf6",
   "metadata": {},
   "source": [
    "### Popular Items"
   ]
  },
  {
   "cell_type": "markdown",
   "id": "ebcbf28a",
   "metadata": {},
   "source": [
    "#### Popular Items By Country"
   ]
  },
  {
   "cell_type": "code",
   "execution_count": 117,
   "id": "6b097aeb",
   "metadata": {},
   "outputs": [],
   "source": [
    "#We import the necessary libraries\n",
    "from scipy.stats import skew, mode"
   ]
  },
  {
   "cell_type": "code",
   "execution_count": 39,
   "id": "d97423ed",
   "metadata": {},
   "outputs": [],
   "source": [
    "agg_func_text = {'Description':['nunique',mode]}\n",
    "popular_item_by_country = df.groupby(['Country']).agg(agg_func_text)"
   ]
  },
  {
   "cell_type": "code",
   "execution_count": 116,
   "id": "07a119d2",
   "metadata": {},
   "outputs": [
    {
     "data": {
      "text/html": [
       "<div>\n",
       "<style scoped>\n",
       "    .dataframe tbody tr th:only-of-type {\n",
       "        vertical-align: middle;\n",
       "    }\n",
       "\n",
       "    .dataframe tbody tr th {\n",
       "        vertical-align: top;\n",
       "    }\n",
       "\n",
       "    .dataframe thead tr th {\n",
       "        text-align: left;\n",
       "    }\n",
       "\n",
       "    .dataframe thead tr:last-of-type th {\n",
       "        text-align: right;\n",
       "    }\n",
       "</style>\n",
       "<table border=\"1\" class=\"dataframe\">\n",
       "  <thead>\n",
       "    <tr>\n",
       "      <th></th>\n",
       "      <th colspan=\"2\" halign=\"left\">Description</th>\n",
       "    </tr>\n",
       "    <tr>\n",
       "      <th></th>\n",
       "      <th>nunique</th>\n",
       "      <th>mode</th>\n",
       "    </tr>\n",
       "    <tr>\n",
       "      <th>Country</th>\n",
       "      <th></th>\n",
       "      <th></th>\n",
       "    </tr>\n",
       "  </thead>\n",
       "  <tbody>\n",
       "    <tr>\n",
       "      <th>Australia</th>\n",
       "      <td>608</td>\n",
       "      <td>([RED TOADSTOOL LED NIGHT LIGHT], [9])</td>\n",
       "    </tr>\n",
       "    <tr>\n",
       "      <th>Austria</th>\n",
       "      <td>306</td>\n",
       "      <td>([POSTAGE], [14])</td>\n",
       "    </tr>\n",
       "    <tr>\n",
       "      <th>Bahrain</th>\n",
       "      <td>16</td>\n",
       "      <td>([NOVELTY BISCUITS CAKE STAND 3 TIER], [2])</td>\n",
       "    </tr>\n",
       "    <tr>\n",
       "      <th>Belgium</th>\n",
       "      <td>784</td>\n",
       "      <td>([POSTAGE], [96])</td>\n",
       "    </tr>\n",
       "    <tr>\n",
       "      <th>Brazil</th>\n",
       "      <td>32</td>\n",
       "      <td>([CLOCK MAGNET MUM'S KITCHEN], [1])</td>\n",
       "    </tr>\n",
       "    <tr>\n",
       "      <th>Canada</th>\n",
       "      <td>147</td>\n",
       "      <td>([COLOURING PENCILS BROWN TUBE], [3])</td>\n",
       "    </tr>\n",
       "    <tr>\n",
       "      <th>Channel Islands</th>\n",
       "      <td>436</td>\n",
       "      <td>([DOORMAT HOME SWEET HOME BLUE ], [7])</td>\n",
       "    </tr>\n",
       "    <tr>\n",
       "      <th>Cyprus</th>\n",
       "      <td>498</td>\n",
       "      <td>([REGENCY CAKESTAND 3 TIER], [8])</td>\n",
       "    </tr>\n",
       "    <tr>\n",
       "      <th>Czech Republic</th>\n",
       "      <td>25</td>\n",
       "      <td>([12 PENCILS SMALL TUBE RED RETROSPOT], [1])</td>\n",
       "    </tr>\n",
       "    <tr>\n",
       "      <th>Denmark</th>\n",
       "      <td>252</td>\n",
       "      <td>([POSTAGE], [13])</td>\n",
       "    </tr>\n",
       "    <tr>\n",
       "      <th>EIRE</th>\n",
       "      <td>2017</td>\n",
       "      <td>([CARRIAGE], [106])</td>\n",
       "    </tr>\n",
       "    <tr>\n",
       "      <th>European Community</th>\n",
       "      <td>50</td>\n",
       "      <td>([POSTAGE], [3])</td>\n",
       "    </tr>\n",
       "    <tr>\n",
       "      <th>Finland</th>\n",
       "      <td>465</td>\n",
       "      <td>([POSTAGE], [37])</td>\n",
       "    </tr>\n",
       "    <tr>\n",
       "      <th>France</th>\n",
       "      <td>1564</td>\n",
       "      <td>([POSTAGE], [300])</td>\n",
       "    </tr>\n",
       "    <tr>\n",
       "      <th>Germany</th>\n",
       "      <td>1697</td>\n",
       "      <td>([POSTAGE], [374])</td>\n",
       "    </tr>\n",
       "    <tr>\n",
       "      <th>Greece</th>\n",
       "      <td>138</td>\n",
       "      <td>([POSTAGE], [3])</td>\n",
       "    </tr>\n",
       "    <tr>\n",
       "      <th>Hong Kong</th>\n",
       "      <td>194</td>\n",
       "      <td>([MEASURING TAPE BABUSHKA PINK], [6])</td>\n",
       "    </tr>\n",
       "    <tr>\n",
       "      <th>Iceland</th>\n",
       "      <td>103</td>\n",
       "      <td>([AIRLINE BAG VINTAGE JET SET BROWN], [6])</td>\n",
       "    </tr>\n",
       "    <tr>\n",
       "      <th>Israel</th>\n",
       "      <td>255</td>\n",
       "      <td>([WOODLAND CHARLOTTE BAG], [4])</td>\n",
       "    </tr>\n",
       "    <tr>\n",
       "      <th>Italy</th>\n",
       "      <td>476</td>\n",
       "      <td>([POSTAGE], [17])</td>\n",
       "    </tr>\n",
       "    <tr>\n",
       "      <th>Japan</th>\n",
       "      <td>216</td>\n",
       "      <td>([PACK OF 12 TRADITIONAL CRAYONS], [5])</td>\n",
       "    </tr>\n",
       "    <tr>\n",
       "      <th>Lebanon</th>\n",
       "      <td>45</td>\n",
       "      <td>([12 EGG HOUSE PAINTED WOOD], [1])</td>\n",
       "    </tr>\n",
       "    <tr>\n",
       "      <th>Lithuania</th>\n",
       "      <td>29</td>\n",
       "      <td>([FELTCRAFT CUSHION BUTTERFLY], [2])</td>\n",
       "    </tr>\n",
       "    <tr>\n",
       "      <th>Malta</th>\n",
       "      <td>99</td>\n",
       "      <td>([GRAND CHOCOLATECANDLE], [3])</td>\n",
       "    </tr>\n",
       "    <tr>\n",
       "      <th>Netherlands</th>\n",
       "      <td>803</td>\n",
       "      <td>([POSTAGE], [37])</td>\n",
       "    </tr>\n",
       "    <tr>\n",
       "      <th>Norway</th>\n",
       "      <td>595</td>\n",
       "      <td>([POSTAGE], [20])</td>\n",
       "    </tr>\n",
       "    <tr>\n",
       "      <th>Poland</th>\n",
       "      <td>205</td>\n",
       "      <td>([LARGE CHINESE STYLE SCISSOR], [7])</td>\n",
       "    </tr>\n",
       "    <tr>\n",
       "      <th>Portugal</th>\n",
       "      <td>714</td>\n",
       "      <td>([POSTAGE], [30])</td>\n",
       "    </tr>\n",
       "    <tr>\n",
       "      <th>RSA</th>\n",
       "      <td>58</td>\n",
       "      <td>([4 TRADITIONAL SPINNING TOPS], [1])</td>\n",
       "    </tr>\n",
       "    <tr>\n",
       "      <th>Saudi Arabia</th>\n",
       "      <td>9</td>\n",
       "      <td>([ASSORTED BOTTLE TOP  MAGNETS ], [1])</td>\n",
       "    </tr>\n",
       "    <tr>\n",
       "      <th>Singapore</th>\n",
       "      <td>179</td>\n",
       "      <td>([Manual], [7])</td>\n",
       "    </tr>\n",
       "    <tr>\n",
       "      <th>Spain</th>\n",
       "      <td>1105</td>\n",
       "      <td>([POSTAGE], [62])</td>\n",
       "    </tr>\n",
       "    <tr>\n",
       "      <th>Sweden</th>\n",
       "      <td>261</td>\n",
       "      <td>([POSTAGE], [22])</td>\n",
       "    </tr>\n",
       "    <tr>\n",
       "      <th>Switzerland</th>\n",
       "      <td>987</td>\n",
       "      <td>([POSTAGE], [31])</td>\n",
       "    </tr>\n",
       "    <tr>\n",
       "      <th>USA</th>\n",
       "      <td>163</td>\n",
       "      <td>([CARD DOLLY GIRL ], [2])</td>\n",
       "    </tr>\n",
       "    <tr>\n",
       "      <th>United Arab Emirates</th>\n",
       "      <td>68</td>\n",
       "      <td>([ SPACEBOY BABY GIFT SET], [1])</td>\n",
       "    </tr>\n",
       "    <tr>\n",
       "      <th>United Kingdom</th>\n",
       "      <td>4058</td>\n",
       "      <td>([WHITE HANGING HEART T-LIGHT HOLDER], [2231])</td>\n",
       "    </tr>\n",
       "    <tr>\n",
       "      <th>Unspecified</th>\n",
       "      <td>344</td>\n",
       "      <td>([3 STRIPEY MICE FELTCRAFT], [4])</td>\n",
       "    </tr>\n",
       "  </tbody>\n",
       "</table>\n",
       "</div>"
      ],
      "text/plain": [
       "                     Description  \\\n",
       "                         nunique   \n",
       "Country                            \n",
       "Australia                    608   \n",
       "Austria                      306   \n",
       "Bahrain                       16   \n",
       "Belgium                      784   \n",
       "Brazil                        32   \n",
       "Canada                       147   \n",
       "Channel Islands              436   \n",
       "Cyprus                       498   \n",
       "Czech Republic                25   \n",
       "Denmark                      252   \n",
       "EIRE                        2017   \n",
       "European Community            50   \n",
       "Finland                      465   \n",
       "France                      1564   \n",
       "Germany                     1697   \n",
       "Greece                       138   \n",
       "Hong Kong                    194   \n",
       "Iceland                      103   \n",
       "Israel                       255   \n",
       "Italy                        476   \n",
       "Japan                        216   \n",
       "Lebanon                       45   \n",
       "Lithuania                     29   \n",
       "Malta                         99   \n",
       "Netherlands                  803   \n",
       "Norway                       595   \n",
       "Poland                       205   \n",
       "Portugal                     714   \n",
       "RSA                           58   \n",
       "Saudi Arabia                   9   \n",
       "Singapore                    179   \n",
       "Spain                       1105   \n",
       "Sweden                       261   \n",
       "Switzerland                  987   \n",
       "USA                          163   \n",
       "United Arab Emirates          68   \n",
       "United Kingdom              4058   \n",
       "Unspecified                  344   \n",
       "\n",
       "                                                                      \n",
       "                                                                mode  \n",
       "Country                                                               \n",
       "Australia                     ([RED TOADSTOOL LED NIGHT LIGHT], [9])  \n",
       "Austria                                            ([POSTAGE], [14])  \n",
       "Bahrain                  ([NOVELTY BISCUITS CAKE STAND 3 TIER], [2])  \n",
       "Belgium                                            ([POSTAGE], [96])  \n",
       "Brazil                           ([CLOCK MAGNET MUM'S KITCHEN], [1])  \n",
       "Canada                         ([COLOURING PENCILS BROWN TUBE], [3])  \n",
       "Channel Islands               ([DOORMAT HOME SWEET HOME BLUE ], [7])  \n",
       "Cyprus                             ([REGENCY CAKESTAND 3 TIER], [8])  \n",
       "Czech Republic          ([12 PENCILS SMALL TUBE RED RETROSPOT], [1])  \n",
       "Denmark                                            ([POSTAGE], [13])  \n",
       "EIRE                                             ([CARRIAGE], [106])  \n",
       "European Community                                  ([POSTAGE], [3])  \n",
       "Finland                                            ([POSTAGE], [37])  \n",
       "France                                            ([POSTAGE], [300])  \n",
       "Germany                                           ([POSTAGE], [374])  \n",
       "Greece                                              ([POSTAGE], [3])  \n",
       "Hong Kong                      ([MEASURING TAPE BABUSHKA PINK], [6])  \n",
       "Iceland                   ([AIRLINE BAG VINTAGE JET SET BROWN], [6])  \n",
       "Israel                               ([WOODLAND CHARLOTTE BAG], [4])  \n",
       "Italy                                              ([POSTAGE], [17])  \n",
       "Japan                        ([PACK OF 12 TRADITIONAL CRAYONS], [5])  \n",
       "Lebanon                           ([12 EGG HOUSE PAINTED WOOD], [1])  \n",
       "Lithuania                       ([FELTCRAFT CUSHION BUTTERFLY], [2])  \n",
       "Malta                                 ([GRAND CHOCOLATECANDLE], [3])  \n",
       "Netherlands                                        ([POSTAGE], [37])  \n",
       "Norway                                             ([POSTAGE], [20])  \n",
       "Poland                          ([LARGE CHINESE STYLE SCISSOR], [7])  \n",
       "Portugal                                           ([POSTAGE], [30])  \n",
       "RSA                             ([4 TRADITIONAL SPINNING TOPS], [1])  \n",
       "Saudi Arabia                  ([ASSORTED BOTTLE TOP  MAGNETS ], [1])  \n",
       "Singapore                                            ([Manual], [7])  \n",
       "Spain                                              ([POSTAGE], [62])  \n",
       "Sweden                                             ([POSTAGE], [22])  \n",
       "Switzerland                                        ([POSTAGE], [31])  \n",
       "USA                                        ([CARD DOLLY GIRL ], [2])  \n",
       "United Arab Emirates                ([ SPACEBOY BABY GIFT SET], [1])  \n",
       "United Kingdom        ([WHITE HANGING HEART T-LIGHT HOLDER], [2231])  \n",
       "Unspecified                        ([3 STRIPEY MICE FELTCRAFT], [4])  "
      ]
     },
     "execution_count": 116,
     "metadata": {},
     "output_type": "execute_result"
    }
   ],
   "source": [
    "# Nuuniqe gives the number of unique products for each country. Mode Column describes the most popular\n",
    "# Item for that country with its frequency. \n",
    "popular_item_by_country "
   ]
  },
  {
   "cell_type": "markdown",
   "id": "81205cda",
   "metadata": {},
   "source": [
    "#### Popular Items Over Time"
   ]
  },
  {
   "cell_type": "code",
   "execution_count": 71,
   "id": "f20e10f7",
   "metadata": {},
   "outputs": [],
   "source": [
    "pop_item_df = pd.DataFrame(\n",
    "    df.set_index('InvoiceDate').groupby([pd.Grouper(freq = 'M'), 'StockCode'])['Quantity'].sum()\n",
    "\n",
    ")"
   ]
  },
  {
   "cell_type": "code",
   "execution_count": 72,
   "id": "3893a957",
   "metadata": {},
   "outputs": [
    {
     "data": {
      "text/html": [
       "<div>\n",
       "<style scoped>\n",
       "    .dataframe tbody tr th:only-of-type {\n",
       "        vertical-align: middle;\n",
       "    }\n",
       "\n",
       "    .dataframe tbody tr th {\n",
       "        vertical-align: top;\n",
       "    }\n",
       "\n",
       "    .dataframe thead th {\n",
       "        text-align: right;\n",
       "    }\n",
       "</style>\n",
       "<table border=\"1\" class=\"dataframe\">\n",
       "  <thead>\n",
       "    <tr style=\"text-align: right;\">\n",
       "      <th></th>\n",
       "      <th></th>\n",
       "      <th>Quantity</th>\n",
       "    </tr>\n",
       "    <tr>\n",
       "      <th>InvoiceDate</th>\n",
       "      <th>StockCode</th>\n",
       "      <th></th>\n",
       "    </tr>\n",
       "  </thead>\n",
       "  <tbody>\n",
       "    <tr>\n",
       "      <th rowspan=\"5\" valign=\"top\">2010-12-31</th>\n",
       "      <th>10002</th>\n",
       "      <td>251</td>\n",
       "    </tr>\n",
       "    <tr>\n",
       "      <th>10120</th>\n",
       "      <td>16</td>\n",
       "    </tr>\n",
       "    <tr>\n",
       "      <th>10123C</th>\n",
       "      <td>1</td>\n",
       "    </tr>\n",
       "    <tr>\n",
       "      <th>10124A</th>\n",
       "      <td>4</td>\n",
       "    </tr>\n",
       "    <tr>\n",
       "      <th>10124G</th>\n",
       "      <td>5</td>\n",
       "    </tr>\n",
       "    <tr>\n",
       "      <th>...</th>\n",
       "      <th>...</th>\n",
       "      <td>...</td>\n",
       "    </tr>\n",
       "    <tr>\n",
       "      <th rowspan=\"5\" valign=\"top\">2011-12-31</th>\n",
       "      <th>DCGSSBOY</th>\n",
       "      <td>1</td>\n",
       "    </tr>\n",
       "    <tr>\n",
       "      <th>DOT</th>\n",
       "      <td>17</td>\n",
       "    </tr>\n",
       "    <tr>\n",
       "      <th>M</th>\n",
       "      <td>819</td>\n",
       "    </tr>\n",
       "    <tr>\n",
       "      <th>POST</th>\n",
       "      <td>124</td>\n",
       "    </tr>\n",
       "    <tr>\n",
       "      <th>gift_0001_10</th>\n",
       "      <td>1</td>\n",
       "    </tr>\n",
       "  </tbody>\n",
       "</table>\n",
       "<p>34177 rows × 1 columns</p>\n",
       "</div>"
      ],
      "text/plain": [
       "                          Quantity\n",
       "InvoiceDate StockCode             \n",
       "2010-12-31  10002              251\n",
       "            10120               16\n",
       "            10123C               1\n",
       "            10124A               4\n",
       "            10124G               5\n",
       "...                            ...\n",
       "2011-12-31  DCGSSBOY             1\n",
       "            DOT                 17\n",
       "            M                  819\n",
       "            POST               124\n",
       "            gift_0001_10         1\n",
       "\n",
       "[34177 rows x 1 columns]"
      ]
     },
     "execution_count": 72,
     "metadata": {},
     "output_type": "execute_result"
    }
   ],
   "source": [
    "pop_item_df"
   ]
  },
  {
   "cell_type": "code",
   "execution_count": 103,
   "id": "cb695a4f",
   "metadata": {},
   "outputs": [
    {
     "data": {
      "text/html": [
       "<div>\n",
       "<style scoped>\n",
       "    .dataframe tbody tr th:only-of-type {\n",
       "        vertical-align: middle;\n",
       "    }\n",
       "\n",
       "    .dataframe tbody tr th {\n",
       "        vertical-align: top;\n",
       "    }\n",
       "\n",
       "    .dataframe thead th {\n",
       "        text-align: right;\n",
       "    }\n",
       "</style>\n",
       "<table border=\"1\" class=\"dataframe\">\n",
       "  <thead>\n",
       "    <tr style=\"text-align: right;\">\n",
       "      <th></th>\n",
       "      <th>InvoiceDate</th>\n",
       "      <th>StockCode</th>\n",
       "      <th>Quantity</th>\n",
       "    </tr>\n",
       "  </thead>\n",
       "  <tbody>\n",
       "    <tr>\n",
       "      <th>0</th>\n",
       "      <td>2011-11-30</td>\n",
       "      <td>23084</td>\n",
       "      <td>14954</td>\n",
       "    </tr>\n",
       "    <tr>\n",
       "      <th>1</th>\n",
       "      <td>2011-11-30</td>\n",
       "      <td>84826</td>\n",
       "      <td>12551</td>\n",
       "    </tr>\n",
       "    <tr>\n",
       "      <th>2</th>\n",
       "      <td>2011-11-30</td>\n",
       "      <td>22197</td>\n",
       "      <td>12460</td>\n",
       "    </tr>\n",
       "    <tr>\n",
       "      <th>3</th>\n",
       "      <td>2011-11-30</td>\n",
       "      <td>22086</td>\n",
       "      <td>7908</td>\n",
       "    </tr>\n",
       "    <tr>\n",
       "      <th>4</th>\n",
       "      <td>2011-11-30</td>\n",
       "      <td>85099B</td>\n",
       "      <td>5909</td>\n",
       "    </tr>\n",
       "    <tr>\n",
       "      <th>5</th>\n",
       "      <td>2011-11-30</td>\n",
       "      <td>22578</td>\n",
       "      <td>5366</td>\n",
       "    </tr>\n",
       "    <tr>\n",
       "      <th>6</th>\n",
       "      <td>2011-11-30</td>\n",
       "      <td>84879</td>\n",
       "      <td>5254</td>\n",
       "    </tr>\n",
       "    <tr>\n",
       "      <th>7</th>\n",
       "      <td>2011-11-30</td>\n",
       "      <td>22577</td>\n",
       "      <td>5003</td>\n",
       "    </tr>\n",
       "  </tbody>\n",
       "</table>\n",
       "</div>"
      ],
      "text/plain": [
       "  InvoiceDate StockCode  Quantity\n",
       "0  2011-11-30     23084     14954\n",
       "1  2011-11-30     84826     12551\n",
       "2  2011-11-30     22197     12460\n",
       "3  2011-11-30     22086      7908\n",
       "4  2011-11-30    85099B      5909\n",
       "5  2011-11-30     22578      5366\n",
       "6  2011-11-30     84879      5254\n",
       "7  2011-11-30     22577      5003"
      ]
     },
     "execution_count": 103,
     "metadata": {},
     "output_type": "execute_result"
    }
   ],
   "source": [
    "# Rank items by the last month sales\n",
    "last_month_sorted_df = pop_item_df.loc['2011-11'].sort_values(\n",
    "    by='Quantity', ascending=False\n",
    ").reset_index()\n",
    "\n",
    "last_month_sorted_df.head(8)"
   ]
  },
  {
   "cell_type": "code",
   "execution_count": 107,
   "id": "ad6fc040",
   "metadata": {},
   "outputs": [
    {
     "data": {
      "text/html": [
       "<div>\n",
       "<style scoped>\n",
       "    .dataframe tbody tr th:only-of-type {\n",
       "        vertical-align: middle;\n",
       "    }\n",
       "\n",
       "    .dataframe tbody tr th {\n",
       "        vertical-align: top;\n",
       "    }\n",
       "\n",
       "    .dataframe thead th {\n",
       "        text-align: right;\n",
       "    }\n",
       "</style>\n",
       "<table border=\"1\" class=\"dataframe\">\n",
       "  <thead>\n",
       "    <tr style=\"text-align: right;\">\n",
       "      <th></th>\n",
       "      <th></th>\n",
       "      <th>Quantity</th>\n",
       "    </tr>\n",
       "    <tr>\n",
       "      <th>InvoiceDate</th>\n",
       "      <th>StockCode</th>\n",
       "      <th></th>\n",
       "    </tr>\n",
       "  </thead>\n",
       "  <tbody>\n",
       "    <tr>\n",
       "      <th rowspan=\"5\" valign=\"top\">2010-12-31</th>\n",
       "      <th>22086</th>\n",
       "      <td>2460</td>\n",
       "    </tr>\n",
       "    <tr>\n",
       "      <th>22197</th>\n",
       "      <td>2738</td>\n",
       "    </tr>\n",
       "    <tr>\n",
       "      <th>22578</th>\n",
       "      <td>162</td>\n",
       "    </tr>\n",
       "    <tr>\n",
       "      <th>84879</th>\n",
       "      <td>2371</td>\n",
       "    </tr>\n",
       "    <tr>\n",
       "      <th>85099B</th>\n",
       "      <td>2152</td>\n",
       "    </tr>\n",
       "    <tr>\n",
       "      <th>...</th>\n",
       "      <th>...</th>\n",
       "      <td>...</td>\n",
       "    </tr>\n",
       "    <tr>\n",
       "      <th rowspan=\"5\" valign=\"top\">2011-12-31</th>\n",
       "      <th>22197</th>\n",
       "      <td>6217</td>\n",
       "    </tr>\n",
       "    <tr>\n",
       "      <th>22578</th>\n",
       "      <td>1230</td>\n",
       "    </tr>\n",
       "    <tr>\n",
       "      <th>23084</th>\n",
       "      <td>4311</td>\n",
       "    </tr>\n",
       "    <tr>\n",
       "      <th>84879</th>\n",
       "      <td>1330</td>\n",
       "    </tr>\n",
       "    <tr>\n",
       "      <th>85099B</th>\n",
       "      <td>1105</td>\n",
       "    </tr>\n",
       "  </tbody>\n",
       "</table>\n",
       "<p>68 rows × 1 columns</p>\n",
       "</div>"
      ],
      "text/plain": [
       "                       Quantity\n",
       "InvoiceDate StockCode          \n",
       "2010-12-31  22086          2460\n",
       "            22197          2738\n",
       "            22578           162\n",
       "            84879          2371\n",
       "            85099B         2152\n",
       "...                         ...\n",
       "2011-12-31  22197          6217\n",
       "            22578          1230\n",
       "            23084          4311\n",
       "            84879          1330\n",
       "            85099B         1105\n",
       "\n",
       "[68 rows x 1 columns]"
      ]
     },
     "execution_count": 107,
     "metadata": {},
     "output_type": "execute_result"
    }
   ],
   "source": [
    "#group by top 6 items \n",
    "\n",
    "date_item_df = pd.DataFrame(\n",
    "    df.loc[\n",
    "        df['StockCode'].isin(['23084','22197', '22086', '85099B', '22578','84879'])\n",
    "    ].set_index('InvoiceDate').groupby([\n",
    "        pd.Grouper(freq='M'), 'StockCode'\n",
    "    ])['Quantity'].sum()\n",
    ")\n",
    "date_item_df"
   ]
  },
  {
   "cell_type": "code",
   "execution_count": 110,
   "id": "b293c764",
   "metadata": {},
   "outputs": [
    {
     "name": "stderr",
     "output_type": "stream",
     "text": [
      "/var/folders/cg/3kvmlqf12p12n5ql9zjmhwhm0000gn/T/ipykernel_71684/3181402227.py:1: FutureWarning: In a future version of pandas all arguments of DataFrame.pivot will be keyword-only.\n",
      "  trending_itmes_df = date_item_df.reset_index().pivot('InvoiceDate','StockCode').fillna(0)\n"
     ]
    },
    {
     "data": {
      "text/html": [
       "<div>\n",
       "<style scoped>\n",
       "    .dataframe tbody tr th:only-of-type {\n",
       "        vertical-align: middle;\n",
       "    }\n",
       "\n",
       "    .dataframe tbody tr th {\n",
       "        vertical-align: top;\n",
       "    }\n",
       "\n",
       "    .dataframe thead th {\n",
       "        text-align: right;\n",
       "    }\n",
       "</style>\n",
       "<table border=\"1\" class=\"dataframe\">\n",
       "  <thead>\n",
       "    <tr style=\"text-align: right;\">\n",
       "      <th>StockCode</th>\n",
       "      <th>22086</th>\n",
       "      <th>22197</th>\n",
       "      <th>22578</th>\n",
       "      <th>23084</th>\n",
       "      <th>84879</th>\n",
       "      <th>85099B</th>\n",
       "    </tr>\n",
       "    <tr>\n",
       "      <th>InvoiceDate</th>\n",
       "      <th></th>\n",
       "      <th></th>\n",
       "      <th></th>\n",
       "      <th></th>\n",
       "      <th></th>\n",
       "      <th></th>\n",
       "    </tr>\n",
       "  </thead>\n",
       "  <tbody>\n",
       "    <tr>\n",
       "      <th>2010-12-31</th>\n",
       "      <td>2460.00</td>\n",
       "      <td>2738.00</td>\n",
       "      <td>162.00</td>\n",
       "      <td>0.00</td>\n",
       "      <td>2371.00</td>\n",
       "      <td>2152.00</td>\n",
       "    </tr>\n",
       "    <tr>\n",
       "      <th>2011-01-31</th>\n",
       "      <td>24.00</td>\n",
       "      <td>1824.00</td>\n",
       "      <td>1.00</td>\n",
       "      <td>0.00</td>\n",
       "      <td>1771.00</td>\n",
       "      <td>2747.00</td>\n",
       "    </tr>\n",
       "    <tr>\n",
       "      <th>2011-02-28</th>\n",
       "      <td>5.00</td>\n",
       "      <td>2666.00</td>\n",
       "      <td>0.00</td>\n",
       "      <td>0.00</td>\n",
       "      <td>1667.00</td>\n",
       "      <td>3080.00</td>\n",
       "    </tr>\n",
       "    <tr>\n",
       "      <th>2011-03-31</th>\n",
       "      <td>87.00</td>\n",
       "      <td>2803.00</td>\n",
       "      <td>0.00</td>\n",
       "      <td>0.00</td>\n",
       "      <td>2662.00</td>\n",
       "      <td>5282.00</td>\n",
       "    </tr>\n",
       "    <tr>\n",
       "      <th>2011-04-30</th>\n",
       "      <td>13.00</td>\n",
       "      <td>1869.00</td>\n",
       "      <td>0.00</td>\n",
       "      <td>0.00</td>\n",
       "      <td>2560.00</td>\n",
       "      <td>2456.00</td>\n",
       "    </tr>\n",
       "    <tr>\n",
       "      <th>2011-05-31</th>\n",
       "      <td>17.00</td>\n",
       "      <td>6849.00</td>\n",
       "      <td>0.00</td>\n",
       "      <td>1131.00</td>\n",
       "      <td>3060.00</td>\n",
       "      <td>3621.00</td>\n",
       "    </tr>\n",
       "    <tr>\n",
       "      <th>2011-06-30</th>\n",
       "      <td>344.00</td>\n",
       "      <td>2095.00</td>\n",
       "      <td>0.00</td>\n",
       "      <td>1713.00</td>\n",
       "      <td>1564.00</td>\n",
       "      <td>3682.00</td>\n",
       "    </tr>\n",
       "    <tr>\n",
       "      <th>2011-07-31</th>\n",
       "      <td>383.00</td>\n",
       "      <td>1876.00</td>\n",
       "      <td>107.00</td>\n",
       "      <td>318.00</td>\n",
       "      <td>1845.00</td>\n",
       "      <td>3129.00</td>\n",
       "    </tr>\n",
       "    <tr>\n",
       "      <th>2011-08-31</th>\n",
       "      <td>490.00</td>\n",
       "      <td>5421.00</td>\n",
       "      <td>13.00</td>\n",
       "      <td>2267.00</td>\n",
       "      <td>6553.00</td>\n",
       "      <td>5502.00</td>\n",
       "    </tr>\n",
       "    <tr>\n",
       "      <th>2011-09-30</th>\n",
       "      <td>2106.00</td>\n",
       "      <td>4196.00</td>\n",
       "      <td>1229.00</td>\n",
       "      <td>680.00</td>\n",
       "      <td>3064.00</td>\n",
       "      <td>4401.00</td>\n",
       "    </tr>\n",
       "    <tr>\n",
       "      <th>2011-10-31</th>\n",
       "      <td>3429.00</td>\n",
       "      <td>5907.00</td>\n",
       "      <td>2354.00</td>\n",
       "      <td>6348.00</td>\n",
       "      <td>2760.00</td>\n",
       "      <td>5412.00</td>\n",
       "    </tr>\n",
       "    <tr>\n",
       "      <th>2011-11-30</th>\n",
       "      <td>7908.00</td>\n",
       "      <td>12460.00</td>\n",
       "      <td>5366.00</td>\n",
       "      <td>14954.00</td>\n",
       "      <td>5254.00</td>\n",
       "      <td>5909.00</td>\n",
       "    </tr>\n",
       "    <tr>\n",
       "      <th>2011-12-31</th>\n",
       "      <td>2089.00</td>\n",
       "      <td>6217.00</td>\n",
       "      <td>1230.00</td>\n",
       "      <td>4311.00</td>\n",
       "      <td>1330.00</td>\n",
       "      <td>1105.00</td>\n",
       "    </tr>\n",
       "  </tbody>\n",
       "</table>\n",
       "</div>"
      ],
      "text/plain": [
       "StockCode     22086    22197   22578    23084   84879  85099B\n",
       "InvoiceDate                                                  \n",
       "2010-12-31  2460.00  2738.00  162.00     0.00 2371.00 2152.00\n",
       "2011-01-31    24.00  1824.00    1.00     0.00 1771.00 2747.00\n",
       "2011-02-28     5.00  2666.00    0.00     0.00 1667.00 3080.00\n",
       "2011-03-31    87.00  2803.00    0.00     0.00 2662.00 5282.00\n",
       "2011-04-30    13.00  1869.00    0.00     0.00 2560.00 2456.00\n",
       "2011-05-31    17.00  6849.00    0.00  1131.00 3060.00 3621.00\n",
       "2011-06-30   344.00  2095.00    0.00  1713.00 1564.00 3682.00\n",
       "2011-07-31   383.00  1876.00  107.00   318.00 1845.00 3129.00\n",
       "2011-08-31   490.00  5421.00   13.00  2267.00 6553.00 5502.00\n",
       "2011-09-30  2106.00  4196.00 1229.00   680.00 3064.00 4401.00\n",
       "2011-10-31  3429.00  5907.00 2354.00  6348.00 2760.00 5412.00\n",
       "2011-11-30  7908.00 12460.00 5366.00 14954.00 5254.00 5909.00\n",
       "2011-12-31  2089.00  6217.00 1230.00  4311.00 1330.00 1105.00"
      ]
     },
     "execution_count": 110,
     "metadata": {},
     "output_type": "execute_result"
    }
   ],
   "source": [
    "trending_itmes_df = date_item_df.reset_index().pivot('InvoiceDate','StockCode').fillna(0)\n",
    "trending_itmes_df.columns = trending_itmes_df.columns.droplevel(0)\n",
    "trending_itmes_df"
   ]
  },
  {
   "cell_type": "code",
   "execution_count": 109,
   "id": "a62ebcd5",
   "metadata": {},
   "outputs": [
    {
     "data": {
      "image/png": "[encoded data removed]",
      "text/plain": [
       "<Figure size 1152x648 with 1 Axes>"
      ]
     },
     "metadata": {},
     "output_type": "display_data"
    }
   ],
   "source": [
    "ax = pd.DataFrame(trending_itmes_df.values).plot(\n",
    "    figsize=(16,9),\n",
    "    grid=True,\n",
    ")\n",
    "\n",
    "ax.set_ylabel('Number of purchases')\n",
    "ax.set_xlabel('Date')\n",
    "ax.set_title('Item Trends over Time')\n",
    "\n",
    "ax.legend(trending_itmes_df.columns, loc='upper left')\n",
    "\n",
    "plt.xticks(\n",
    "    range(len(trending_itmes_df.index)), \n",
    "    [x.strftime('%m.%Y') for x in trending_itmes_df.index], \n",
    "    rotation=45\n",
    ")\n",
    "\n",
    "plt.show()"
   ]
  },
  {
   "cell_type": "code",
   "execution_count": null,
   "id": "c55f380f",
   "metadata": {},
   "outputs": [],
   "source": []
  }
 ],
 "metadata": {
  "kernelspec": {
   "display_name": "Python 3 (ipykernel)",
   "language": "python",
   "name": "python3"
  },
  "language_info": {
   "codemirror_mode": {
    "name": "ipython",
    "version": 3
   },
   "file_extension": ".py",
   "mimetype": "text/x-python",
   "name": "python",
   "nbconvert_exporter": "python",
   "pygments_lexer": "ipython3",
   "version": "3.9.12"
  }
 },
 "nbformat": 4,
 "nbformat_minor": 5
}
